{
 "cells": [
  {
   "cell_type": "code",
   "execution_count": 1,
   "metadata": {
    "id": "-6hmel6sKNSP"
   },
   "outputs": [],
   "source": [
    "def reproduceResult():\n",
    "  seed_value= 0\n",
    "\n",
    "  \n",
    "  with tf.device(\"/cpu:0\"):\n",
    "    ...\n",
    "\n",
    "\n",
    "  os.environ['PYTHONHASHSEED']=str(seed_value)\n",
    "  np.random.seed(0)\n",
    "  rn.seed(0)\n",
    "\n",
    "\n",
    "  session_conf = tf.compat.v1.ConfigProto(intra_op_parallelism_threads=1, \n",
    "                                          inter_op_parallelism_threads=1)\n",
    "\n",
    "\n",
    "  tf.compat.v1.set_random_seed(seed_value)\n",
    "  sess = tf.compat.v1.Session(graph=tf.compat.v1.get_default_graph(), config=session_conf)\n",
    "  tf.compat.v1.keras.backend.set_session(sess)\n",
    "  tf.compat.v1.keras.backend.clear_session()\n",
    "\n",
    "  \n"
   ]
  },
  {
   "cell_type": "code",
   "execution_count": 30,
   "metadata": {
    "id": "vURLkAC5_Jp0",
    "scrolled": true
   },
   "outputs": [],
   "source": [
    "try:\n",
    "  %tensorflow_version 2.x\n",
    "except Exception:\n",
    "  pass\n",
    "  \n",
    "import os \n",
    "import numpy as np\n",
    "import tensorflow as tf\n",
    "import random as rn\n",
    "from tensorflow import keras\n",
    "\n",
    "reproduceResult()\n",
    "# %tensorflow_version 2.x\n",
    "# import tensorflow as tf\n",
    "# tf.test.gpu_device_name()\n",
    "# from scipy import integrate\n",
    "# import os\n",
    "# import numpy as np\n",
    "# from tensorflow import keras\n",
    "import tempfile\n",
    "import zipfile\n",
    "import pandas as pd\n",
    "import matplotlib.pyplot as plt\n",
    "from sklearn.metrics import accuracy_score, f1_score, confusion_matrix\n",
    "# import tensorflow as tf\n",
    "import tqdm\n",
    "\n",
    "from sklearn.model_selection import train_test_split\n",
    "from tensorflow.keras.preprocessing.text import Tokenizer\n",
    "from tensorflow.keras.preprocessing.sequence import pad_sequences\n",
    "from tensorflow.keras import backend as K\n",
    "\n",
    "\n",
    "from tensorflow.keras import callbacks\n",
    "\n",
    "from keras_lr_finder import LRFinder\n",
    "from clr.clr_callback import CyclicLR\n",
    "\n",
    "import tensorflow_model_optimization as tfmot\n",
    "\n",
    "\n",
    "\n",
    "import keras_tuner\n",
    "from kerastuner.tuners import RandomSearch\n",
    "from kerastuner.engine.hyperparameters import HyperParameters\n",
    "from attention import Attention\n",
    "\n",
    "import pandas as pd\n",
    "import numpy as np\n",
    "from matplotlib import pyplot as plt\n",
    "import seaborn as sns\n",
    "import math\n",
    "\n",
    "\n",
    "from keras.preprocessing.text import Tokenizer\n",
    "\n",
    "\n",
    "import re\n",
    "import nltk\n",
    "from nltk.corpus import stopwords\n",
    "from nltk.stem.snowball import PorterStemmer\n",
    "from sklearn import preprocessing\n",
    "\n",
    "\n",
    "import gensim"
   ]
  },
  {
   "cell_type": "code",
   "execution_count": 3,
   "metadata": {},
   "outputs": [],
   "source": [
    "df = pd.read_csv('mental_health_dataset.csv',encoding= 'unicode_escape')"
   ]
  },
  {
   "cell_type": "code",
   "execution_count": 4,
   "metadata": {},
   "outputs": [
    {
     "data": {
      "text/plain": [
       "<bound method NDFrame.head of        Unnamed: 0                                        Description  \\\n",
       "0               0  I'm sorry about this post. It's gonna be a who...   \n",
       "1               1  Been getting super high off high amounts of th...   \n",
       "2               2  My brothers been shooting heroin/meth for the ...   \n",
       "3               3  I rlly need an opinion cuz idk bout this stuff...   \n",
       "4               4  Ive smoked weed since 8th grade in middle scho...   \n",
       "...           ...                                                ...   \n",
       "11736       11736  possible have satpathy ask question the questi...   \n",
       "11737       11737                              god that was thorough   \n",
       "11738       11738                      thread and meat kaun jat bhai   \n",
       "11739       11739     not touch food with your left hand left handed   \n",
       "11740       11740                     they say because they care for   \n",
       "\n",
       "      Mental_State  \n",
       "0        Addiction  \n",
       "1        Addiction  \n",
       "2        Addiction  \n",
       "3        Addiction  \n",
       "4        Addiction  \n",
       "...            ...  \n",
       "11736      neutral  \n",
       "11737      neutral  \n",
       "11738      neutral  \n",
       "11739      neutral  \n",
       "11740      neutral  \n",
       "\n",
       "[11741 rows x 3 columns]>"
      ]
     },
     "execution_count": 4,
     "metadata": {},
     "output_type": "execute_result"
    }
   ],
   "source": [
    "df.head"
   ]
  },
  {
   "cell_type": "code",
   "execution_count": 5,
   "metadata": {},
   "outputs": [
    {
     "data": {
      "text/html": [
       "<div>\n",
       "<style scoped>\n",
       "    .dataframe tbody tr th:only-of-type {\n",
       "        vertical-align: middle;\n",
       "    }\n",
       "\n",
       "    .dataframe tbody tr th {\n",
       "        vertical-align: top;\n",
       "    }\n",
       "\n",
       "    .dataframe thead th {\n",
       "        text-align: right;\n",
       "    }\n",
       "</style>\n",
       "<table border=\"1\" class=\"dataframe\">\n",
       "  <thead>\n",
       "    <tr style=\"text-align: right;\">\n",
       "      <th></th>\n",
       "      <th>Unnamed: 0</th>\n",
       "      <th>Description</th>\n",
       "      <th>Mental_State</th>\n",
       "    </tr>\n",
       "  </thead>\n",
       "  <tbody>\n",
       "    <tr>\n",
       "      <th>0</th>\n",
       "      <td>False</td>\n",
       "      <td>False</td>\n",
       "      <td>False</td>\n",
       "    </tr>\n",
       "    <tr>\n",
       "      <th>1</th>\n",
       "      <td>False</td>\n",
       "      <td>False</td>\n",
       "      <td>False</td>\n",
       "    </tr>\n",
       "    <tr>\n",
       "      <th>2</th>\n",
       "      <td>False</td>\n",
       "      <td>False</td>\n",
       "      <td>False</td>\n",
       "    </tr>\n",
       "    <tr>\n",
       "      <th>3</th>\n",
       "      <td>False</td>\n",
       "      <td>False</td>\n",
       "      <td>False</td>\n",
       "    </tr>\n",
       "    <tr>\n",
       "      <th>4</th>\n",
       "      <td>False</td>\n",
       "      <td>False</td>\n",
       "      <td>False</td>\n",
       "    </tr>\n",
       "    <tr>\n",
       "      <th>...</th>\n",
       "      <td>...</td>\n",
       "      <td>...</td>\n",
       "      <td>...</td>\n",
       "    </tr>\n",
       "    <tr>\n",
       "      <th>11736</th>\n",
       "      <td>False</td>\n",
       "      <td>False</td>\n",
       "      <td>False</td>\n",
       "    </tr>\n",
       "    <tr>\n",
       "      <th>11737</th>\n",
       "      <td>False</td>\n",
       "      <td>False</td>\n",
       "      <td>False</td>\n",
       "    </tr>\n",
       "    <tr>\n",
       "      <th>11738</th>\n",
       "      <td>False</td>\n",
       "      <td>False</td>\n",
       "      <td>False</td>\n",
       "    </tr>\n",
       "    <tr>\n",
       "      <th>11739</th>\n",
       "      <td>False</td>\n",
       "      <td>False</td>\n",
       "      <td>False</td>\n",
       "    </tr>\n",
       "    <tr>\n",
       "      <th>11740</th>\n",
       "      <td>False</td>\n",
       "      <td>False</td>\n",
       "      <td>False</td>\n",
       "    </tr>\n",
       "  </tbody>\n",
       "</table>\n",
       "<p>11741 rows × 3 columns</p>\n",
       "</div>"
      ],
      "text/plain": [
       "       Unnamed: 0  Description  Mental_State\n",
       "0           False        False         False\n",
       "1           False        False         False\n",
       "2           False        False         False\n",
       "3           False        False         False\n",
       "4           False        False         False\n",
       "...           ...          ...           ...\n",
       "11736       False        False         False\n",
       "11737       False        False         False\n",
       "11738       False        False         False\n",
       "11739       False        False         False\n",
       "11740       False        False         False\n",
       "\n",
       "[11741 rows x 3 columns]"
      ]
     },
     "execution_count": 5,
     "metadata": {},
     "output_type": "execute_result"
    }
   ],
   "source": [
    "df.isnull()"
   ]
  },
  {
   "cell_type": "code",
   "execution_count": 6,
   "metadata": {},
   "outputs": [],
   "source": [
    "df.dropna(inplace=True)"
   ]
  },
  {
   "cell_type": "code",
   "execution_count": 7,
   "metadata": {},
   "outputs": [
    {
     "data": {
      "text/html": [
       "<div>\n",
       "<style scoped>\n",
       "    .dataframe tbody tr th:only-of-type {\n",
       "        vertical-align: middle;\n",
       "    }\n",
       "\n",
       "    .dataframe tbody tr th {\n",
       "        vertical-align: top;\n",
       "    }\n",
       "\n",
       "    .dataframe thead tr th {\n",
       "        text-align: left;\n",
       "    }\n",
       "\n",
       "    .dataframe thead tr:last-of-type th {\n",
       "        text-align: right;\n",
       "    }\n",
       "</style>\n",
       "<table border=\"1\" class=\"dataframe\">\n",
       "  <thead>\n",
       "    <tr>\n",
       "      <th></th>\n",
       "      <th colspan=\"8\" halign=\"left\">Unnamed: 0</th>\n",
       "    </tr>\n",
       "    <tr>\n",
       "      <th></th>\n",
       "      <th>count</th>\n",
       "      <th>mean</th>\n",
       "      <th>std</th>\n",
       "      <th>min</th>\n",
       "      <th>25%</th>\n",
       "      <th>50%</th>\n",
       "      <th>75%</th>\n",
       "      <th>max</th>\n",
       "    </tr>\n",
       "    <tr>\n",
       "      <th>Mental_State</th>\n",
       "      <th></th>\n",
       "      <th></th>\n",
       "      <th></th>\n",
       "      <th></th>\n",
       "      <th></th>\n",
       "      <th></th>\n",
       "      <th></th>\n",
       "      <th></th>\n",
       "    </tr>\n",
       "  </thead>\n",
       "  <tbody>\n",
       "    <tr>\n",
       "      <th>Addiction</th>\n",
       "      <td>998.0</td>\n",
       "      <td>498.500000</td>\n",
       "      <td>288.242086</td>\n",
       "      <td>0.0</td>\n",
       "      <td>249.25</td>\n",
       "      <td>498.5</td>\n",
       "      <td>747.75</td>\n",
       "      <td>997.0</td>\n",
       "    </tr>\n",
       "    <tr>\n",
       "      <th>Alcoholism</th>\n",
       "      <td>999.0</td>\n",
       "      <td>1497.000000</td>\n",
       "      <td>288.530761</td>\n",
       "      <td>998.0</td>\n",
       "      <td>1247.50</td>\n",
       "      <td>1497.0</td>\n",
       "      <td>1746.50</td>\n",
       "      <td>1996.0</td>\n",
       "    </tr>\n",
       "    <tr>\n",
       "      <th>Anxiety</th>\n",
       "      <td>1024.0</td>\n",
       "      <td>2508.500000</td>\n",
       "      <td>295.747640</td>\n",
       "      <td>1997.0</td>\n",
       "      <td>2252.75</td>\n",
       "      <td>2508.5</td>\n",
       "      <td>2764.25</td>\n",
       "      <td>3020.0</td>\n",
       "    </tr>\n",
       "    <tr>\n",
       "      <th>Aspergers</th>\n",
       "      <td>799.0</td>\n",
       "      <td>3516.000000</td>\n",
       "      <td>230.795725</td>\n",
       "      <td>3117.0</td>\n",
       "      <td>3316.50</td>\n",
       "      <td>3516.0</td>\n",
       "      <td>3715.50</td>\n",
       "      <td>3915.0</td>\n",
       "    </tr>\n",
       "    <tr>\n",
       "      <th>Bipolar</th>\n",
       "      <td>1024.0</td>\n",
       "      <td>4427.500000</td>\n",
       "      <td>295.747640</td>\n",
       "      <td>3916.0</td>\n",
       "      <td>4171.75</td>\n",
       "      <td>4427.5</td>\n",
       "      <td>4683.25</td>\n",
       "      <td>4939.0</td>\n",
       "    </tr>\n",
       "    <tr>\n",
       "      <th>Borderline Personality</th>\n",
       "      <td>1024.0</td>\n",
       "      <td>5720.500000</td>\n",
       "      <td>295.747640</td>\n",
       "      <td>5209.0</td>\n",
       "      <td>5464.75</td>\n",
       "      <td>5720.5</td>\n",
       "      <td>5976.25</td>\n",
       "      <td>6232.0</td>\n",
       "    </tr>\n",
       "    <tr>\n",
       "      <th>Depression</th>\n",
       "      <td>1024.0</td>\n",
       "      <td>7018.500000</td>\n",
       "      <td>295.747640</td>\n",
       "      <td>6507.0</td>\n",
       "      <td>6762.75</td>\n",
       "      <td>7018.5</td>\n",
       "      <td>7274.25</td>\n",
       "      <td>7530.0</td>\n",
       "    </tr>\n",
       "    <tr>\n",
       "      <th>Schizophernia</th>\n",
       "      <td>1024.0</td>\n",
       "      <td>8149.500000</td>\n",
       "      <td>295.747640</td>\n",
       "      <td>7638.0</td>\n",
       "      <td>7893.75</td>\n",
       "      <td>8149.5</td>\n",
       "      <td>8405.25</td>\n",
       "      <td>8661.0</td>\n",
       "    </tr>\n",
       "    <tr>\n",
       "      <th>SelfHarm</th>\n",
       "      <td>746.0</td>\n",
       "      <td>9144.857909</td>\n",
       "      <td>215.894415</td>\n",
       "      <td>8772.0</td>\n",
       "      <td>8958.25</td>\n",
       "      <td>9144.5</td>\n",
       "      <td>9331.75</td>\n",
       "      <td>9518.0</td>\n",
       "    </tr>\n",
       "    <tr>\n",
       "      <th>Suidal Thought</th>\n",
       "      <td>1024.0</td>\n",
       "      <td>10030.500000</td>\n",
       "      <td>295.747640</td>\n",
       "      <td>9519.0</td>\n",
       "      <td>9774.75</td>\n",
       "      <td>10030.5</td>\n",
       "      <td>10286.25</td>\n",
       "      <td>10542.0</td>\n",
       "    </tr>\n",
       "    <tr>\n",
       "      <th>neutral</th>\n",
       "      <td>1024.0</td>\n",
       "      <td>11228.500000</td>\n",
       "      <td>295.747640</td>\n",
       "      <td>10717.0</td>\n",
       "      <td>10972.75</td>\n",
       "      <td>11228.5</td>\n",
       "      <td>11484.25</td>\n",
       "      <td>11740.0</td>\n",
       "    </tr>\n",
       "  </tbody>\n",
       "</table>\n",
       "</div>"
      ],
      "text/plain": [
       "                       Unnamed: 0                                     \\\n",
       "                            count          mean         std      min   \n",
       "Mental_State                                                           \n",
       "Addiction                   998.0    498.500000  288.242086      0.0   \n",
       "Alcoholism                  999.0   1497.000000  288.530761    998.0   \n",
       "Anxiety                    1024.0   2508.500000  295.747640   1997.0   \n",
       "Aspergers                   799.0   3516.000000  230.795725   3117.0   \n",
       "Bipolar                    1024.0   4427.500000  295.747640   3916.0   \n",
       "Borderline Personality     1024.0   5720.500000  295.747640   5209.0   \n",
       "Depression                 1024.0   7018.500000  295.747640   6507.0   \n",
       "Schizophernia              1024.0   8149.500000  295.747640   7638.0   \n",
       "SelfHarm                    746.0   9144.857909  215.894415   8772.0   \n",
       "Suidal Thought             1024.0  10030.500000  295.747640   9519.0   \n",
       "neutral                    1024.0  11228.500000  295.747640  10717.0   \n",
       "\n",
       "                                                              \n",
       "                             25%      50%       75%      max  \n",
       "Mental_State                                                  \n",
       "Addiction                 249.25    498.5    747.75    997.0  \n",
       "Alcoholism               1247.50   1497.0   1746.50   1996.0  \n",
       "Anxiety                  2252.75   2508.5   2764.25   3020.0  \n",
       "Aspergers                3316.50   3516.0   3715.50   3915.0  \n",
       "Bipolar                  4171.75   4427.5   4683.25   4939.0  \n",
       "Borderline Personality   5464.75   5720.5   5976.25   6232.0  \n",
       "Depression               6762.75   7018.5   7274.25   7530.0  \n",
       "Schizophernia            7893.75   8149.5   8405.25   8661.0  \n",
       "SelfHarm                 8958.25   9144.5   9331.75   9518.0  \n",
       "Suidal Thought           9774.75  10030.5  10286.25  10542.0  \n",
       "neutral                 10972.75  11228.5  11484.25  11740.0  "
      ]
     },
     "execution_count": 7,
     "metadata": {},
     "output_type": "execute_result"
    }
   ],
   "source": [
    "df.groupby(\"Mental_State\").describe()"
   ]
  },
  {
   "cell_type": "code",
   "execution_count": 8,
   "metadata": {},
   "outputs": [
    {
     "data": {
      "text/plain": [
       "Anxiety                   1024\n",
       "Bipolar                   1024\n",
       "Borderline Personality    1024\n",
       "Depression                1024\n",
       "Schizophernia             1024\n",
       "Suidal Thought            1024\n",
       "neutral                   1024\n",
       "Alcoholism                 999\n",
       "Addiction                  998\n",
       "Aspergers                  799\n",
       "SelfHarm                   746\n",
       "Name: Mental_State, dtype: int64"
      ]
     },
     "execution_count": 8,
     "metadata": {},
     "output_type": "execute_result"
    }
   ],
   "source": [
    "df[\"Mental_State\"].value_counts()"
   ]
  },
  {
   "cell_type": "code",
   "execution_count": 9,
   "metadata": {},
   "outputs": [
    {
     "name": "stderr",
     "output_type": "stream",
     "text": [
      "C:\\Users\\moshi\\anaconda3\\lib\\site-packages\\seaborn\\_decorators.py:36: FutureWarning: Pass the following variable as a keyword arg: x. From version 0.12, the only valid positional argument will be `data`, and passing other arguments without an explicit keyword will result in an error or misinterpretation.\n",
      "  warnings.warn(\n"
     ]
    },
    {
     "data": {
      "image/png": "[encoded data removed]",
      "text/plain": [
       "<Figure size 1584x720 with 1 Axes>"
      ]
     },
     "metadata": {
      "needs_background": "light"
     },
     "output_type": "display_data"
    }
   ],
   "source": [
    "plt.subplots(figsize=(22,10))\n",
    "sns.countplot(df[\"Mental_State\"])\n",
    "plt.show()"
   ]
  },
  {
   "cell_type": "code",
   "execution_count": 10,
   "metadata": {},
   "outputs": [
    {
     "name": "stdout",
     "output_type": "stream",
     "text": [
      "26163\n"
     ]
    }
   ],
   "source": [
    "longest_string = max(df[\"Description\"], key=len)\n",
    "print(len(longest_string))"
   ]
  },
  {
   "cell_type": "code",
   "execution_count": 11,
   "metadata": {},
   "outputs": [],
   "source": [
    "import nltk\n",
    "\n",
    "from nltk.corpus import stopwords\n",
    "from nltk.stem.porter import PorterStemmer\n",
    "from wordcloud import WordCloud,STOPWORDS\n",
    "from nltk.stem import WordNetLemmatizer\n",
    "from nltk.tokenize import word_tokenize,sent_tokenize\n",
    "from bs4 import BeautifulSoup\n",
    "\n",
    "import re,string,unicodedata\n",
    "from nltk.tokenize.toktok import ToktokTokenizer\n",
    "from nltk.stem import LancasterStemmer,WordNetLemmatizer"
   ]
  },
  {
   "cell_type": "code",
   "execution_count": 12,
   "metadata": {},
   "outputs": [],
   "source": [
    "#Tokenization of text\n",
    "tokenizer=ToktokTokenizer()\n",
    "#Setting English stopwords\n",
    "stopword_list=nltk.corpus.stopwords.words('english')"
   ]
  },
  {
   "cell_type": "code",
   "execution_count": 13,
   "metadata": {},
   "outputs": [
    {
     "name": "stderr",
     "output_type": "stream",
     "text": [
      "C:\\Users\\moshi\\anaconda3\\lib\\site-packages\\bs4\\__init__.py:435: MarkupResemblesLocatorWarning: The input looks more like a filename than markup. You may want to open this file and pass the filehandle into Beautiful Soup.\n",
      "  warnings.warn(\n"
     ]
    }
   ],
   "source": [
    "#Removing the html strips\n",
    "def strip_html(text):\n",
    "    soup = BeautifulSoup(text, \"html.parser\")\n",
    "    return soup.get_text()\n",
    "\n",
    "#Removing the square brackets\n",
    "def remove_between_square_brackets(text):\n",
    "    return re.sub('\\[[^]]*\\]', '', text)\n",
    "\n",
    "#Removing the noisy text\n",
    "def denoise_text(text):\n",
    "    text = strip_html(text)\n",
    "    text = remove_between_square_brackets(text)\n",
    "    return text\n",
    "#Apply function on description column\n",
    "df['Description']=df['Description'].apply(denoise_text)"
   ]
  },
  {
   "cell_type": "code",
   "execution_count": 14,
   "metadata": {},
   "outputs": [],
   "source": [
    "#Stemming the text\n",
    "def simple_stemmer(text):\n",
    "    ps=nltk.porter.PorterStemmer()\n",
    "    text= ' '.join([ps.stem(word) for word in text.split()])\n",
    "    return text\n",
    "#Apply function on description column\n",
    "df['Description']=df['Description'].apply(simple_stemmer)"
   ]
  },
  {
   "cell_type": "code",
   "execution_count": 15,
   "metadata": {},
   "outputs": [
    {
     "name": "stdout",
     "output_type": "stream",
     "text": [
      "{'ve', 'my', 'very', \"wouldn't\", 'and', 'only', 'who', 'your', 'shouldn', \"needn't\", 'was', 'been', 'our', 'they', 'we', 'she', 'yours', \"won't\", 'then', 'those', \"it's\", 'before', 'all', 'which', \"don't\", 'the', 'during', 'than', 'any', \"mustn't\", 'had', 'themselves', 'further', 'can', 'nor', 'hers', 'doing', \"wasn't\", \"weren't\", 'ma', 'isn', 'below', 'their', 'where', 'd', 'won', 'have', 'didn', 'being', 'herself', 'from', 'o', 'of', 'he', 'off', 'wouldn', 'his', 't', 'shan', \"doesn't\", 'yourselves', \"you've\", 'but', 'her', \"you'll\", 'above', 'needn', 'am', 'whom', \"she's\", 'ours', 'mustn', 'with', 'few', 'hadn', 'how', 'once', 'it', 'ain', 'this', 'him', 'each', \"mightn't\", 'wasn', 'over', 'on', 'why', 'no', 'y', \"haven't\", 'is', 'again', 'more', 'so', 'having', 'through', 're', 'that', 'both', 'a', \"didn't\", 'aren', \"isn't\", 'just', 'about', 'haven', 'some', 'myself', 'between', 'until', 'itself', \"that'll\", 'not', 'should', 'mightn', 'are', 'because', 'has', \"shan't\", 'i', 'be', 'an', 'll', 'them', 'hasn', 'there', 'as', 'in', 'himself', 'will', \"shouldn't\", 'if', \"aren't\", 'out', \"hasn't\", \"should've\", 'other', 'under', 'did', 'do', 'most', 'up', 'by', 'while', 's', 'for', 'were', 'does', 'against', 'its', \"couldn't\", 'weren', 'or', 'what', 'now', 'm', 'to', 'these', \"you'd\", 'when', \"hadn't\", 'doesn', 'same', 'too', 'don', 'at', 'after', 'own', 'ourselves', \"you're\", 'me', 'down', 'into', 'here', 'theirs', 'such', 'you', 'couldn', 'yourself'}\n"
     ]
    }
   ],
   "source": [
    "#set stopwords to english\n",
    "stop=set(stopwords.words('english'))\n",
    "print(stop)\n",
    "\n",
    "#removing the stopwords\n",
    "def remove_stopwords(text, is_lower_case=False):\n",
    "    tokens = tokenizer.tokenize(text)\n",
    "    tokens = [token.strip() for token in tokens]\n",
    "    if is_lower_case:\n",
    "        filtered_tokens = [token for token in tokens if token not in stopword_list]\n",
    "    else:\n",
    "        filtered_tokens = [token for token in tokens if token.lower() not in stopword_list]\n",
    "    filtered_text = ' '.join(filtered_tokens)    \n",
    "    return filtered_text\n",
    "#Apply function on review column\n",
    "df['Description']=df['Description'].apply(remove_stopwords)"
   ]
  },
  {
   "cell_type": "code",
   "execution_count": 16,
   "metadata": {},
   "outputs": [
    {
     "name": "stdout",
     "output_type": "stream",
     "text": [
      "16724\n"
     ]
    }
   ],
   "source": [
    "longest_string = max(df[\"Description\"], key=len)\n",
    "print(len(longest_string))"
   ]
  },
  {
   "cell_type": "code",
   "execution_count": 19,
   "metadata": {
    "colab": {
     "base_uri": "https://localhost:8080/"
    },
    "id": "DFgD7Seo_Xlq",
    "outputId": "9be2fe5a-b7b5-4488-9cd4-8a48ce6123e8",
    "scrolled": false
   },
   "outputs": [
    {
     "name": "stdout",
     "output_type": "stream",
     "text": [
      "Number of unique words: 21468\n",
      "[[   6  796 3268 ...   41    7  158]\n",
      " [   0    0    0 ...  732   44 3905]\n",
      " [ 663  437   67 ...  823 2390  171]\n",
      " ...\n",
      " [   0    0    0 ...   10  342 1783]\n",
      " [  15   30   50 ...  155   65  368]\n",
      " [ 270  104  650 ...    5 1114  171]]\n"
     ]
    }
   ],
   "source": [
    "train, test = train_test_split(df, test_size=0.2, stratify = df[\"Mental_State\"], random_state = 42)\n",
    "num_classes = 11\n",
    "embed_num_dims = 300\n",
    "max_seq_len = 50\n",
    "\n",
    "x_train = train['Description']\n",
    "x_test = test['Description']\n",
    "\n",
    "y_train = train['Mental_State']\n",
    "y_test = test['Mental_State']\n",
    "\n",
    "texts_train = x_train\n",
    "texts_test = x_test\n",
    "\n",
    "tokenizer = Tokenizer()\n",
    "tokenizer.fit_on_texts(train['Description'])\n",
    "\n",
    "sequence_train = tokenizer.texts_to_sequences(texts_train)\n",
    "sequence_test = tokenizer.texts_to_sequences(texts_test)\n",
    "\n",
    "index_of_words = tokenizer.word_index\n",
    "\n",
    "vocab_size = len(index_of_words) + 1\n",
    "\n",
    "print('Number of unique words: {}'.format(len(index_of_words)))\n",
    "\n",
    "X_train_pad = pad_sequences(sequence_train, maxlen = max_seq_len, padding='pre' )\n",
    "X_test_pad = pad_sequences(sequence_test, maxlen = max_seq_len,  padding='pre')\n",
    "\n",
    "print(X_train_pad)\n",
    "\n",
    "\n",
    "encoding = {\n",
    "    \"neutral\":0,\n",
    "    \"Suidal Thought\":1,\n",
    "    \"Bipolar\":2,\n",
    "    \"Borderline Personality\":3,\n",
    "    \"Anxiety\":4,\n",
    "    \"Schizophernia\":5,\n",
    "    \"Alcoholism\":6,\n",
    "    \"Depression\":7,\n",
    "    \"Addiction\":8,\n",
    "    \"Aspergers\":9,\n",
    "    \"SelfHarm\":10,\n",
    "}\n",
    "\n",
    "y_train = [encoding[x] for x in train['Mental_State']]\n",
    "y_test = [encoding[x] for x in test['Mental_State']]\n",
    "\n",
    "\n",
    "\n",
    "y_train = tf.keras.utils.to_categorical(y_train)\n",
    "y_test = tf.keras.utils.to_categorical(y_test)\n"
   ]
  },
  {
   "cell_type": "code",
   "execution_count": 31,
   "metadata": {},
   "outputs": [
    {
     "name": "stderr",
     "output_type": "stream",
     "text": [
      "Reading GloVe: 2196017it [02:36, 13992.79it/s]\n"
     ]
    },
    {
     "name": "stdout",
     "output_type": "stream",
     "text": [
      "(21469, 300)\n"
     ]
    }
   ],
   "source": [
    "#reading GloVe\n",
    "def get_embedding_vectors(tokenizer, dim=300):\n",
    "    embedding_index = {}\n",
    "    with open('glove.840B.300d.txt','r', encoding=\"cp437\", errors='ignore') as f:\n",
    "        for line in tqdm.tqdm(f, \"Reading GloVe\"):\n",
    "            values = line.split()\n",
    "            word = ''.join(values[:-300])\n",
    "            vectors = np.asarray(values[-300:], dtype='float32')\n",
    "            embedding_index[word] = vectors\n",
    "\n",
    "    word_index = tokenizer.word_index\n",
    "    embedding_matrix = np.zeros((len(word_index)+1, dim))\n",
    "    for word, i in word_index.items():\n",
    "        embedding_vector = embedding_index.get(word)\n",
    "        if embedding_vector is not None:\n",
    "            # words not found will be 0s\n",
    "            embedding_matrix[i] = embedding_vector\n",
    "          \n",
    "    return embedding_matrix\n",
    "\n",
    "embedd_matrix= get_embedding_vectors(tokenizer)\n",
    "\n",
    "print(embedd_matrix.shape)"
   ]
  },
  {
   "cell_type": "markdown",
   "metadata": {
    "id": "gGgsd5mMZPKn"
   },
   "source": [
    "# Random Search\n"
   ]
  },
  {
   "cell_type": "code",
   "execution_count": 32,
   "metadata": {
    "colab": {
     "base_uri": "https://localhost:8080/"
    },
    "id": "3IvOZoK8YGDI",
    "outputId": "fe861031-a89e-45d3-8f7a-42f1e7b6b256",
    "scrolled": false
   },
   "outputs": [
    {
     "name": "stdout",
     "output_type": "stream",
     "text": [
      "Trial 40 Complete [00h 08m 06s]\n",
      "val_accuracy: 0.6335200667381287\n",
      "\n",
      "Best val_accuracy So Far: 0.6363211870193481\n",
      "Total elapsed time: 04h 57m 13s\n",
      "INFO:tensorflow:Oracle triggered exit\n",
      "Results summary\n",
      "Results in 1668926444\\untitled_project\n",
      "Showing 10 best trials\n",
      "<keras_tuner.engine.objective.Objective object at 0x000001AA11B39EB0>\n",
      "Trial summary\n",
      "Hyperparameters:\n",
      "cnn_1_unit: 80\n",
      "cnn_1_dropout: 0.2\n",
      "lstm_unit: 128\n",
      "lstm_dropout: 0.2\n",
      "Score: 0.6363211870193481\n",
      "Trial summary\n",
      "Hyperparameters:\n",
      "cnn_1_unit: 80\n",
      "cnn_1_dropout: 0.2\n",
      "lstm_unit: 192\n",
      "lstm_dropout: 0.4\n",
      "Score: 0.6363211870193481\n",
      "Trial summary\n",
      "Hyperparameters:\n",
      "cnn_1_unit: 32\n",
      "cnn_1_dropout: 0.1\n",
      "lstm_unit: 192\n",
      "lstm_dropout: 0.4\n",
      "Score: 0.6363211870193481\n",
      "Trial summary\n",
      "Hyperparameters:\n",
      "cnn_1_unit: 48\n",
      "cnn_1_dropout: 0.2\n",
      "lstm_unit: 192\n",
      "lstm_dropout: 0.4\n",
      "Score: 0.6363211870193481\n",
      "Trial summary\n",
      "Hyperparameters:\n",
      "cnn_1_unit: 64\n",
      "cnn_1_dropout: 0.2\n",
      "lstm_unit: 192\n",
      "lstm_dropout: 0.4\n",
      "Score: 0.6363211870193481\n",
      "Trial summary\n",
      "Hyperparameters:\n",
      "cnn_1_unit: 48\n",
      "cnn_1_dropout: 0.1\n",
      "lstm_unit: 128\n",
      "lstm_dropout: 0.5\n",
      "Score: 0.6358543634414673\n",
      "Trial summary\n",
      "Hyperparameters:\n",
      "cnn_1_unit: 48\n",
      "cnn_1_dropout: 0.2\n",
      "lstm_unit: 224\n",
      "lstm_dropout: 0.2\n",
      "Score: 0.6349206566810608\n",
      "Trial summary\n",
      "Hyperparameters:\n",
      "cnn_1_unit: 80\n",
      "cnn_1_dropout: 0.2\n",
      "lstm_unit: 224\n",
      "lstm_dropout: 0.2\n",
      "Score: 0.6349206566810608\n",
      "Trial summary\n",
      "Hyperparameters:\n",
      "cnn_1_unit: 32\n",
      "cnn_1_dropout: 0.1\n",
      "lstm_unit: 224\n",
      "lstm_dropout: 0.2\n",
      "Score: 0.6349206566810608\n",
      "Trial summary\n",
      "Hyperparameters:\n",
      "cnn_1_unit: 64\n",
      "cnn_1_dropout: 0.1\n",
      "lstm_unit: 128\n",
      "lstm_dropout: 0.4\n",
      "Score: 0.6339869499206543\n"
     ]
    }
   ],
   "source": [
    "from tensorflow.keras import regularizers\n",
    "import time\n",
    "LOG_DIR = f\"{int(time.time())}\"\n",
    "seed_value= 0\n",
    "\n",
    "\n",
    "\n",
    "def build_model(hp):\n",
    "  \n",
    "  reproduceResult()\n",
    "\n",
    "  print('Ya it comes here')\n",
    "  fake_val = hp.Int(\"cnn_1_unit\",min_value =16, max_value = 96, step = 16)\n",
    "  cnn_1_unit = hp.Int(\"cnn_1_unit\",min_value =16, max_value = 96, step = 16)\n",
    "  cnn_1_dropout = hp.Float(\"cnn_1_dropout\",min_value = 0.1,max_value = 0.3,step = 0.1)\n",
    "\n",
    "  lstm_unit = hp.Int(\"lstm_unit\",min_value =64, max_value = 256, step = 32)\n",
    "  lstm_dropout = hp.Float(\"lstm_dropout\",min_value = 0.1,max_value = 0.5,step = 0.1)\n",
    "\n",
    "\n",
    "\n",
    "\n",
    "  seq_input = keras.layers.Input(shape=(max_seq_len,))\n",
    "\n",
    "  embedded = keras.layers.Embedding(vocab_size,\n",
    "                          embed_num_dims,\n",
    "                          input_length = max_seq_len,\n",
    "                          weights = [embedd_matrix])(seq_input)\n",
    "\n",
    "\n",
    "  lstm = keras.layers.Bidirectional(keras.layers.LSTM(lstm_unit, recurrent_regularizer=regularizers.l2(1e-4),\n",
    "                                                      return_sequences=True,kernel_regularizer=regularizers.l2(1e-4),\n",
    "                                                      bias_regularizer=regularizers.l2(1e-2),\n",
    "                                                      activity_regularizer=regularizers.l2(1e-4),input_shape =(48,)))(embedded)\n",
    "  lstm = keras.layers.Activation(activation='relu')(lstm)\n",
    "  lstm = keras.layers.BatchNormalization()(lstm)\n",
    "  lstm = keras.layers.Dropout(lstm_dropout,seed=seed_value)(lstm)\n",
    "\n",
    "  max_pooling = keras.layers.GlobalMaxPooling1D()(lstm)\n",
    "  output = keras.layers.Dense(num_classes, activation='softmax')(max_pooling)\n",
    "\n",
    "  model = keras.Model(inputs = [seq_input], outputs = output)\n",
    "  model.compile(loss = 'categorical_crossentropy', optimizer = 'adam', metrics = ['accuracy'])\n",
    "  \n",
    "  model.summary()\n",
    "\n",
    "  return model\n",
    "\n",
    "\n",
    "stop = tf.keras.callbacks.EarlyStopping(monitor='val_accuracy',\n",
    "                              patience=4,\n",
    "                              restore_best_weights=True,\n",
    "                              verbose=0, mode='max')\n",
    "\n",
    "\n",
    "clr_step_size = int((len(X_train_pad)/64))\n",
    "base_lr = 1e-3\n",
    "max_lr = 6e-3\n",
    "mode = 'exp_range'\n",
    "\n",
    "\n",
    "clr = CyclicLR(base_lr = base_lr, max_lr = max_lr, step_size = clr_step_size, mode = mode)\n",
    "\n",
    "\n",
    "\n",
    "tuner = RandomSearch(\n",
    "    build_model,\n",
    "    objective = keras_tuner.Objective('val_accuracy', direction=\"max\"),\n",
    "    max_trials = 40,\n",
    "    executions_per_trial = 1,\n",
    "    directory = LOG_DIR\n",
    "    )\n",
    "  \n",
    "tuner.search(x=X_train_pad,y = y_train,epochs = 35, batch_size = 64,callbacks = [stop,clr], \n",
    "             validation_data = (X_test_pad,y_test))\n",
    "\n",
    "\n",
    "tuner.results_summary()"
   ]
  },
  {
   "cell_type": "code",
   "execution_count": 33,
   "metadata": {},
   "outputs": [
    {
     "name": "stdout",
     "output_type": "stream",
     "text": [
      "Search space summary\n",
      "Default search space size: 4\n",
      "cnn_1_unit (Int)\n",
      "{'default': None, 'conditions': [], 'min_value': 16, 'max_value': 96, 'step': 16, 'sampling': None}\n",
      "cnn_1_dropout (Float)\n",
      "{'default': 0.1, 'conditions': [], 'min_value': 0.1, 'max_value': 0.3, 'step': 0.1, 'sampling': None}\n",
      "lstm_unit (Int)\n",
      "{'default': None, 'conditions': [], 'min_value': 64, 'max_value': 256, 'step': 32, 'sampling': None}\n",
      "lstm_dropout (Float)\n",
      "{'default': 0.1, 'conditions': [], 'min_value': 0.1, 'max_value': 0.5, 'step': 0.1, 'sampling': None}\n"
     ]
    }
   ],
   "source": [
    "tuner.search_space_summary()"
   ]
  },
  {
   "cell_type": "code",
   "execution_count": 34,
   "metadata": {},
   "outputs": [
    {
     "name": "stdout",
     "output_type": "stream",
     "text": [
      "Ya it comes here\n",
      "Model: \"model\"\n",
      "_________________________________________________________________\n",
      " Layer (type)                Output Shape              Param #   \n",
      "=================================================================\n",
      " input_1 (InputLayer)        [(None, 50)]              0         \n",
      "                                                                 \n",
      " embedding (Embedding)       (None, 50, 300)           6440700   \n",
      "                                                                 \n",
      " bidirectional (Bidirectiona  (None, 50, 256)          439296    \n",
      " l)                                                              \n",
      "                                                                 \n",
      " activation (Activation)     (None, 50, 256)           0         \n",
      "                                                                 \n",
      " batch_normalization (BatchN  (None, 50, 256)          1024      \n",
      " ormalization)                                                   \n",
      "                                                                 \n",
      " dropout (Dropout)           (None, 50, 256)           0         \n",
      "                                                                 \n",
      " global_max_pooling1d (Globa  (None, 256)              0         \n",
      " lMaxPooling1D)                                                  \n",
      "                                                                 \n",
      " dense (Dense)               (None, 11)                2827      \n",
      "                                                                 \n",
      "=================================================================\n",
      "Total params: 6,883,847\n",
      "Trainable params: 6,883,335\n",
      "Non-trainable params: 512\n",
      "_________________________________________________________________\n"
     ]
    }
   ],
   "source": [
    "best_hps = tuner.get_best_hyperparameters(5)\n",
    "# Build the model with the best hp.\n",
    "model = build_model(best_hps[0])"
   ]
  },
  {
   "cell_type": "code",
   "execution_count": 35,
   "metadata": {},
   "outputs": [
    {
     "name": "stdout",
     "output_type": "stream",
     "text": [
      "Epoch 1/35\n",
      "134/134 [==============================] - 50s 345ms/step - loss: 3.8092 - accuracy: 0.4819 - val_loss: 3.0233 - val_accuracy: 0.4388\n",
      "Epoch 2/35\n",
      "134/134 [==============================] - 53s 398ms/step - loss: 1.6673 - accuracy: 0.6968 - val_loss: 1.9046 - val_accuracy: 0.6232\n",
      "Epoch 3/35\n",
      "134/134 [==============================] - 57s 425ms/step - loss: 0.8093 - accuracy: 0.8605 - val_loss: 1.5856 - val_accuracy: 0.5649\n",
      "Epoch 4/35\n",
      "134/134 [==============================] - 57s 426ms/step - loss: 0.6832 - accuracy: 0.8552 - val_loss: 1.4202 - val_accuracy: 0.6363\n",
      "Epoch 5/35\n",
      "134/134 [==============================] - 55s 412ms/step - loss: 0.3136 - accuracy: 0.9645 - val_loss: 1.7404 - val_accuracy: 0.6204\n",
      "Epoch 6/35\n",
      "134/134 [==============================] - 54s 400ms/step - loss: 0.3472 - accuracy: 0.9492 - val_loss: 1.9169 - val_accuracy: 0.6270\n",
      "Epoch 7/35\n",
      "134/134 [==============================] - 54s 405ms/step - loss: 0.2339 - accuracy: 0.9837 - val_loss: 2.2309 - val_accuracy: 0.6050\n",
      "Epoch 8/35\n",
      "134/134 [==============================] - 54s 405ms/step - loss: 0.3011 - accuracy: 0.9646 - val_loss: 2.2573 - val_accuracy: 0.6181\n"
     ]
    }
   ],
   "source": [
    "history = model.fit(x=X_train_pad,y = y_train,epochs = 35, batch_size = 64,callbacks = [stop,clr], \n",
    "             validation_data = (X_test_pad,y_test))"
   ]
  },
  {
   "cell_type": "code",
   "execution_count": 36,
   "metadata": {},
   "outputs": [],
   "source": [
    "def PlotGraph(history):\n",
    "    acc = history.history['accuracy']\n",
    "    val_acc = history.history['val_accuracy']\n",
    "    loss = history.history['loss']\n",
    "    val_loss = history.history['val_loss']\n",
    "    x = range(1, len(acc) + 1)\n",
    "\n",
    "    plt.figure(figsize=(12, 5))\n",
    "    plt.subplot(1, 2, 1)\n",
    "    plt.plot(x, acc, 'g', label='Training acc')\n",
    "    plt.plot(x, val_acc, 'b', label='Validation acc')\n",
    "    plt.title('Training and validation accuracy')\n",
    "    plt.legend()\n",
    "    plt.subplot(1, 2, 2)\n",
    "    plt.plot(x, loss, 'g', label='Training loss')\n",
    "    plt.plot(x, val_loss, 'b', label='Validation loss')\n",
    "    plt.title('Training and validation loss')\n",
    "    plt.legend()"
   ]
  },
  {
   "cell_type": "code",
   "execution_count": 37,
   "metadata": {},
   "outputs": [
    {
     "data": {
      "image/png": "[encoded data removed]",
      "text/plain": [
       "<Figure size 864x360 with 2 Axes>"
      ]
     },
     "metadata": {
      "needs_background": "light"
     },
     "output_type": "display_data"
    }
   ],
   "source": [
    "PlotGraph(history)"
   ]
  },
  {
   "cell_type": "code",
   "execution_count": 38,
   "metadata": {},
   "outputs": [],
   "source": [
    "class_names = [\"Neutral\",\n",
    "    \"Suicidal Thought\",\n",
    "    \"Bipolar\",\n",
    "    \"BPD\",\n",
    "    \"Anxiety\",\n",
    "    \"Schizophrenia\",\n",
    "    \"Alcoholism\",\n",
    "    \"Depression\",\n",
    "    \"Addiction\",\n",
    "    \"Aspergers\",\n",
    "    \"Self Harm\",]"
   ]
  },
  {
   "cell_type": "code",
   "execution_count": 39,
   "metadata": {},
   "outputs": [
    {
     "data": {
      "text/plain": [
       "array([1, 2, 5, ..., 0, 2, 1], dtype=int64)"
      ]
     },
     "execution_count": 39,
     "metadata": {},
     "output_type": "execute_result"
    }
   ],
   "source": [
    "predict = model.predict(X_test_pad)\n",
    "predict_class = np.argmax(predict, axis=1)\n",
    "predict_class = np.array(predict_class)\n",
    "predict_class"
   ]
  },
  {
   "cell_type": "code",
   "execution_count": 40,
   "metadata": {},
   "outputs": [
    {
     "data": {
      "text/plain": [
       "array([7, 2, 2, ..., 0, 2, 1], dtype=int64)"
      ]
     },
     "execution_count": 40,
     "metadata": {},
     "output_type": "execute_result"
    }
   ],
   "source": [
    "predict_lables=np.argmax(y_test, axis=1)\n",
    "predict_lables"
   ]
  },
  {
   "cell_type": "code",
   "execution_count": 41,
   "metadata": {
    "scrolled": true
   },
   "outputs": [
    {
     "data": {
      "text/plain": [
       "array([[196,   2,   0,   0,   0,   1,   0,   2,   1,   0,   3],\n",
       "       [  4, 114,   8,  10,  12,   2,   2,  42,   3,   5,   3],\n",
       "       [  1,  14, 116,  10,  15,  13,   4,  22,   2,   7,   1],\n",
       "       [  3,  17,  10,  97,  17,   9,   4,  22,   5,  16,   5],\n",
       "       [  2,   7,  12,   6, 127,  15,   9,  16,   6,   3,   2],\n",
       "       [  4,   9,  16,   2,  10, 136,   0,  13,   6,   6,   3],\n",
       "       [  0,   2,   1,   0,   7,   2, 156,  10,  15,   2,   4],\n",
       "       [  3,  56,   8,  15,  16,  12,   2,  81,   5,   3,   4],\n",
       "       [  0,   3,   2,   7,   6,   4,  26,   4, 139,   6,   2],\n",
       "       [  1,  11,   5,   5,  11,   8,   5,   8,   4,  98,   4],\n",
       "       [  5,   4,   5,   4,   7,   3,   3,   7,   5,   3, 103]],\n",
       "      dtype=int64)"
      ]
     },
     "execution_count": 41,
     "metadata": {},
     "output_type": "execute_result"
    }
   ],
   "source": [
    "from sklearn.metrics import confusion_matrix\n",
    "cm = confusion_matrix(predict_lables, predict_class)\n",
    "cm"
   ]
  },
  {
   "cell_type": "code",
   "execution_count": 42,
   "metadata": {},
   "outputs": [
    {
     "data": {
      "text/plain": [
       "<AxesSubplot:>"
      ]
     },
     "execution_count": 42,
     "metadata": {},
     "output_type": "execute_result"
    },
    {
     "data": {
      "image/png": "[encoded data removed]",
      "text/plain": [
       "<Figure size 720x504 with 2 Axes>"
      ]
     },
     "metadata": {
      "needs_background": "light"
     },
     "output_type": "display_data"
    }
   ],
   "source": [
    "df_cm = pd.DataFrame(cm, index=class_names,columns=class_names)\n",
    "plt.figure(figsize = (10,7))\n",
    "sns.heatmap(df_cm,annot=True, fmt =\"d\")"
   ]
  },
  {
   "cell_type": "code",
   "execution_count": 43,
   "metadata": {},
   "outputs": [
    {
     "name": "stdout",
     "output_type": "stream",
     "text": [
      "                  precision    recall  f1-score   support\n",
      "\n",
      "         Neutral       0.89      0.96      0.92       205\n",
      "Suicidal Thought       0.48      0.56      0.51       205\n",
      "         Bipolar       0.63      0.57      0.60       205\n",
      "             BPD       0.62      0.47      0.54       205\n",
      "         Anxiety       0.56      0.62      0.59       205\n",
      "   Schizophrenia       0.66      0.66      0.66       205\n",
      "      Alcoholism       0.74      0.78      0.76       199\n",
      "      Depression       0.36      0.40      0.38       205\n",
      "       Addiction       0.73      0.70      0.71       199\n",
      "       Aspergers       0.66      0.61      0.63       160\n",
      "       Self Harm       0.77      0.69      0.73       149\n",
      "\n",
      "        accuracy                           0.64      2142\n",
      "       macro avg       0.65      0.64      0.64      2142\n",
      "    weighted avg       0.64      0.64      0.64      2142\n",
      "\n"
     ]
    }
   ],
   "source": [
    "from sklearn.metrics import classification_report\n",
    "\n",
    "print(classification_report(predict_lables, predict_class, target_names =class_names))"
   ]
  },
  {
   "cell_type": "code",
   "execution_count": null,
   "metadata": {},
   "outputs": [],
   "source": []
  }
 ],
 "metadata": {
  "colab": {
   "collapsed_sections": [],
   "name": "100_percent_test_BiLSTM_best_model_git.ipynb",
   "provenance": []
  },
  "kernelspec": {
   "display_name": "Python 3 (ipykernel)",
   "language": "python",
   "name": "python3"
  },
  "language_info": {
   "codemirror_mode": {
    "name": "ipython",
    "version": 3
   },
   "file_extension": ".py",
   "mimetype": "text/x-python",
   "name": "python",
   "nbconvert_exporter": "python",
   "pygments_lexer": "ipython3",
   "version": "3.9.12"
  }
 },
 "nbformat": 4,
 "nbformat_minor": 1
}
