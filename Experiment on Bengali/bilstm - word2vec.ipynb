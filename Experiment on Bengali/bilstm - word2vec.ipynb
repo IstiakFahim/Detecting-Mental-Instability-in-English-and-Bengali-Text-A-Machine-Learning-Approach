{
 "cells": [
  {
   "cell_type": "code",
   "execution_count": 1,
   "metadata": {
    "id": "-6hmel6sKNSP"
   },
   "outputs": [],
   "source": [
    "def reproduceResult():\n",
    "  seed_value= 0\n",
    "\n",
    "  \n",
    "  with tf.device(\"/cpu:0\"):\n",
    "    ...\n",
    "\n",
    "\n",
    "  os.environ['PYTHONHASHSEED']=str(seed_value)\n",
    "  np.random.seed(0)\n",
    "  rn.seed(0)\n",
    "\n",
    "\n",
    "  session_conf = tf.compat.v1.ConfigProto(intra_op_parallelism_threads=1, \n",
    "                                          inter_op_parallelism_threads=1)\n",
    "\n",
    "\n",
    "  tf.compat.v1.set_random_seed(seed_value)\n",
    "  sess = tf.compat.v1.Session(graph=tf.compat.v1.get_default_graph(), config=session_conf)\n",
    "  tf.compat.v1.keras.backend.set_session(sess)\n",
    "  tf.compat.v1.keras.backend.clear_session()\n",
    "\n",
    "  \n"
   ]
  },
  {
   "cell_type": "code",
   "execution_count": 2,
   "metadata": {
    "id": "vURLkAC5_Jp0",
    "scrolled": true
   },
   "outputs": [
    {
     "name": "stdout",
     "output_type": "stream",
     "text": [
      "WARNING:tensorflow:From C:\\Users\\moshi\\AppData\\Local\\Temp\\ipykernel_2188\\4179402048.py:20: The name tf.keras.backend.set_session is deprecated. Please use tf.compat.v1.keras.backend.set_session instead.\n",
      "\n"
     ]
    },
    {
     "name": "stderr",
     "output_type": "stream",
     "text": [
      "C:\\Users\\moshi\\AppData\\Local\\Temp\\ipykernel_2188\\1746252544.py:43: DeprecationWarning: `import kerastuner` is deprecated, please use `import keras_tuner`.\n",
      "  from kerastuner.tuners import RandomSearch\n"
     ]
    }
   ],
   "source": [
    "try:\n",
    "  %tensorflow_version 2.x\n",
    "except Exception:\n",
    "  pass\n",
    "  \n",
    "import os \n",
    "import numpy as np\n",
    "import tensorflow as tf\n",
    "import random as rn\n",
    "from tensorflow import keras\n",
    "\n",
    "reproduceResult()\n",
    "# %tensorflow_version 2.x\n",
    "# import tensorflow as tf\n",
    "# tf.test.gpu_device_name()\n",
    "# from scipy import integrate\n",
    "# import os\n",
    "# import numpy as np\n",
    "# from tensorflow import keras\n",
    "import tempfile\n",
    "import zipfile\n",
    "import pandas as pd\n",
    "import matplotlib.pyplot as plt\n",
    "from sklearn.metrics import accuracy_score, f1_score, confusion_matrix\n",
    "# import tensorflow as tf\n",
    "\n",
    "from sklearn.model_selection import train_test_split\n",
    "from tensorflow.keras.preprocessing.text import Tokenizer\n",
    "from tensorflow.keras.preprocessing.sequence import pad_sequences\n",
    "from tensorflow.keras import backend as K\n",
    "\n",
    "\n",
    "from tensorflow.keras import callbacks\n",
    "\n",
    "from keras_lr_finder import LRFinder\n",
    "from clr.clr_callback import CyclicLR\n",
    "\n",
    "import tensorflow_model_optimization as tfmot\n",
    "\n",
    "import tqdm\n",
    "\n",
    "import keras_tuner\n",
    "from kerastuner.tuners import RandomSearch\n",
    "from kerastuner.engine.hyperparameters import HyperParameters\n",
    "from attention import Attention\n",
    "\n",
    "import pandas as pd\n",
    "import numpy as np\n",
    "from matplotlib import pyplot as plt\n",
    "import seaborn as sns\n",
    "import math\n",
    "\n",
    "\n",
    "from keras.preprocessing.text import Tokenizer\n",
    "\n",
    "\n",
    "import re\n",
    "import nltk\n",
    "from nltk.corpus import stopwords\n",
    "from nltk.stem.snowball import PorterStemmer\n",
    "from sklearn import preprocessing\n",
    "\n",
    "\n",
    "import gensim"
   ]
  },
  {
   "cell_type": "code",
   "execution_count": 3,
   "metadata": {},
   "outputs": [],
   "source": [
    "df = pd.read_excel('mental_health_dataset_bangla.xlsx')"
   ]
  },
  {
   "cell_type": "code",
   "execution_count": 4,
   "metadata": {},
   "outputs": [
    {
     "data": {
      "text/plain": [
       "<bound method NDFrame.head of                                              Description Mental_State\n",
       "0       প্রতি একক দিনে প্রচুর পরিমাণে  ভোজ্য এবং জিনি...    Addiction\n",
       "1      আমার ভাইয়েরা গত ৫ বছর ধরে হেরোইন/মেথের শুটিং ...    Addiction\n",
       "2      আমি মিডল স্কুলে ৮ম শ্রেণী থেকে আগাছা ধূমপান কর...    Addiction\n",
       "3       আমি অন্টারিও, কানাডার একজন সাংবাদিকতার ছাত্র।...    Addiction\n",
       "4      চিন্তা করবেন না আমি এই বিষয়ে কতটা পোস্ট করি আ...    Addiction\n",
       "...                                                  ...          ...\n",
       "10282         প্যাটেলদের জন্য আপনার চিন্তা কি রিজার্ভেশন      Neutral\n",
       "10283  কেউ কি দয়া করে সাহায্য করতে পারেন কিভাবে ডান্...      Neutral\n",
       "10284   ভাই প্রকৃত সুবিধাভোগীরা ইন্টারনেট ব্যবহার করে...      Neutral\n",
       "10285   দিল্লি চন্ডিগড় তৈরি করা হয়েছিল বছরের পর বছর...      Neutral\n",
       "10286   আগে কেউ সরকারের সমালোচনা করতে পারত না, দেশবির...      Neutral\n",
       "\n",
       "[10287 rows x 2 columns]>"
      ]
     },
     "execution_count": 4,
     "metadata": {},
     "output_type": "execute_result"
    }
   ],
   "source": [
    "df.head"
   ]
  },
  {
   "cell_type": "code",
   "execution_count": 5,
   "metadata": {},
   "outputs": [
    {
     "data": {
      "text/html": [
       "<div>\n",
       "<style scoped>\n",
       "    .dataframe tbody tr th:only-of-type {\n",
       "        vertical-align: middle;\n",
       "    }\n",
       "\n",
       "    .dataframe tbody tr th {\n",
       "        vertical-align: top;\n",
       "    }\n",
       "\n",
       "    .dataframe thead th {\n",
       "        text-align: right;\n",
       "    }\n",
       "</style>\n",
       "<table border=\"1\" class=\"dataframe\">\n",
       "  <thead>\n",
       "    <tr style=\"text-align: right;\">\n",
       "      <th></th>\n",
       "      <th>Description</th>\n",
       "      <th>Mental_State</th>\n",
       "    </tr>\n",
       "  </thead>\n",
       "  <tbody>\n",
       "    <tr>\n",
       "      <th>0</th>\n",
       "      <td>False</td>\n",
       "      <td>False</td>\n",
       "    </tr>\n",
       "    <tr>\n",
       "      <th>1</th>\n",
       "      <td>False</td>\n",
       "      <td>False</td>\n",
       "    </tr>\n",
       "    <tr>\n",
       "      <th>2</th>\n",
       "      <td>False</td>\n",
       "      <td>False</td>\n",
       "    </tr>\n",
       "    <tr>\n",
       "      <th>3</th>\n",
       "      <td>False</td>\n",
       "      <td>False</td>\n",
       "    </tr>\n",
       "    <tr>\n",
       "      <th>4</th>\n",
       "      <td>False</td>\n",
       "      <td>False</td>\n",
       "    </tr>\n",
       "    <tr>\n",
       "      <th>...</th>\n",
       "      <td>...</td>\n",
       "      <td>...</td>\n",
       "    </tr>\n",
       "    <tr>\n",
       "      <th>10282</th>\n",
       "      <td>False</td>\n",
       "      <td>False</td>\n",
       "    </tr>\n",
       "    <tr>\n",
       "      <th>10283</th>\n",
       "      <td>False</td>\n",
       "      <td>False</td>\n",
       "    </tr>\n",
       "    <tr>\n",
       "      <th>10284</th>\n",
       "      <td>False</td>\n",
       "      <td>False</td>\n",
       "    </tr>\n",
       "    <tr>\n",
       "      <th>10285</th>\n",
       "      <td>False</td>\n",
       "      <td>False</td>\n",
       "    </tr>\n",
       "    <tr>\n",
       "      <th>10286</th>\n",
       "      <td>False</td>\n",
       "      <td>False</td>\n",
       "    </tr>\n",
       "  </tbody>\n",
       "</table>\n",
       "<p>10287 rows × 2 columns</p>\n",
       "</div>"
      ],
      "text/plain": [
       "       Description  Mental_State\n",
       "0            False         False\n",
       "1            False         False\n",
       "2            False         False\n",
       "3            False         False\n",
       "4            False         False\n",
       "...            ...           ...\n",
       "10282        False         False\n",
       "10283        False         False\n",
       "10284        False         False\n",
       "10285        False         False\n",
       "10286        False         False\n",
       "\n",
       "[10287 rows x 2 columns]"
      ]
     },
     "execution_count": 5,
     "metadata": {},
     "output_type": "execute_result"
    }
   ],
   "source": [
    "df.isnull()"
   ]
  },
  {
   "cell_type": "code",
   "execution_count": 6,
   "metadata": {},
   "outputs": [],
   "source": [
    "df.dropna(inplace=True)"
   ]
  },
  {
   "cell_type": "code",
   "execution_count": 7,
   "metadata": {},
   "outputs": [
    {
     "data": {
      "text/html": [
       "<div>\n",
       "<style scoped>\n",
       "    .dataframe tbody tr th:only-of-type {\n",
       "        vertical-align: middle;\n",
       "    }\n",
       "\n",
       "    .dataframe tbody tr th {\n",
       "        vertical-align: top;\n",
       "    }\n",
       "\n",
       "    .dataframe thead tr th {\n",
       "        text-align: left;\n",
       "    }\n",
       "\n",
       "    .dataframe thead tr:last-of-type th {\n",
       "        text-align: right;\n",
       "    }\n",
       "</style>\n",
       "<table border=\"1\" class=\"dataframe\">\n",
       "  <thead>\n",
       "    <tr>\n",
       "      <th></th>\n",
       "      <th colspan=\"4\" halign=\"left\">Description</th>\n",
       "    </tr>\n",
       "    <tr>\n",
       "      <th></th>\n",
       "      <th>count</th>\n",
       "      <th>unique</th>\n",
       "      <th>top</th>\n",
       "      <th>freq</th>\n",
       "    </tr>\n",
       "    <tr>\n",
       "      <th>Mental_State</th>\n",
       "      <th></th>\n",
       "      <th></th>\n",
       "      <th></th>\n",
       "      <th></th>\n",
       "    </tr>\n",
       "  </thead>\n",
       "  <tbody>\n",
       "    <tr>\n",
       "      <th>Addiction</th>\n",
       "      <td>921</td>\n",
       "      <td>916</td>\n",
       "      <td>আমি ৬ বছর বয়সী এবং আমি ধূমপান শুরু করতে চাই, ...</td>\n",
       "      <td>2</td>\n",
       "    </tr>\n",
       "    <tr>\n",
       "      <th>Alcoholism</th>\n",
       "      <td>986</td>\n",
       "      <td>983</td>\n",
       "      <td>আমি এটার সাথে আমার প্রথম লড়াই থেকে আমার পাঠ শ...</td>\n",
       "      <td>2</td>\n",
       "    </tr>\n",
       "    <tr>\n",
       "      <th>Anxiety</th>\n",
       "      <td>991</td>\n",
       "      <td>991</td>\n",
       "      <td>আমি জানি এটা শুধু একটা চিন্তা কিন্তু আমি ঘৃণা...</td>\n",
       "      <td>1</td>\n",
       "    </tr>\n",
       "    <tr>\n",
       "      <th>Aspergers</th>\n",
       "      <td>789</td>\n",
       "      <td>787</td>\n",
       "      <td>তাই আমি আমার জীবনে অনেক কঠিন মুহুর্তের মধ্য দি...</td>\n",
       "      <td>2</td>\n",
       "    </tr>\n",
       "    <tr>\n",
       "      <th>BPD</th>\n",
       "      <td>995</td>\n",
       "      <td>995</td>\n",
       "      <td>আমি মনে করি আমি সবসময় ভালবাসা কঠিন হবে এবং শে...</td>\n",
       "      <td>1</td>\n",
       "    </tr>\n",
       "    <tr>\n",
       "      <th>Bipolar</th>\n",
       "      <td>1000</td>\n",
       "      <td>1000</td>\n",
       "      <td>অন্য কেউ কি চরম অত্যধিক সংবেদনশীলতা ভোগ করেন? ...</td>\n",
       "      <td>1</td>\n",
       "    </tr>\n",
       "    <tr>\n",
       "      <th>Depression</th>\n",
       "      <td>943</td>\n",
       "      <td>942</td>\n",
       "      <td>আমি এখন পর্যন্ত ২৯ সালের সবচেয়ে কম শুরু করছি।...</td>\n",
       "      <td>2</td>\n",
       "    </tr>\n",
       "    <tr>\n",
       "      <th>Neutral</th>\n",
       "      <td>1002</td>\n",
       "      <td>1002</td>\n",
       "      <td>তুমি কি পেলে? আমার দিন ঠিক আছে.. এখনও কিছু কর...</td>\n",
       "      <td>1</td>\n",
       "    </tr>\n",
       "    <tr>\n",
       "      <th>Schizophrenia</th>\n",
       "      <td>988</td>\n",
       "      <td>987</td>\n",
       "      <td>হাসপাতালে ভর্তি হতে আপনার বা প্রিয়জনের কি হয়...</td>\n",
       "      <td>2</td>\n",
       "    </tr>\n",
       "    <tr>\n",
       "      <th>Self Harm</th>\n",
       "      <td>671</td>\n",
       "      <td>671</td>\n",
       "      <td>আমার মেয়ের বয়স ৪ এবং গত বছর তার সেরা বন্ধু ত...</td>\n",
       "      <td>1</td>\n",
       "    </tr>\n",
       "    <tr>\n",
       "      <th>Suicidal Thought</th>\n",
       "      <td>1001</td>\n",
       "      <td>1000</td>\n",
       "      <td>খারাপ স্ত্রী/মা আমি দুঃখিত। আমি নিশ্চিত নই যে ...</td>\n",
       "      <td>2</td>\n",
       "    </tr>\n",
       "  </tbody>\n",
       "</table>\n",
       "</div>"
      ],
      "text/plain": [
       "                 Description         \\\n",
       "                       count unique   \n",
       "Mental_State                          \n",
       "Addiction                921    916   \n",
       "Alcoholism               986    983   \n",
       "Anxiety                  991    991   \n",
       "Aspergers                789    787   \n",
       "BPD                      995    995   \n",
       "Bipolar                 1000   1000   \n",
       "Depression               943    942   \n",
       "Neutral                 1002   1002   \n",
       "Schizophrenia            988    987   \n",
       "Self Harm                671    671   \n",
       "Suicidal Thought        1001   1000   \n",
       "\n",
       "                                                                          \n",
       "                                                                top freq  \n",
       "Mental_State                                                              \n",
       "Addiction         আমি ৬ বছর বয়সী এবং আমি ধূমপান শুরু করতে চাই, ...    2  \n",
       "Alcoholism        আমি এটার সাথে আমার প্রথম লড়াই থেকে আমার পাঠ শ...    2  \n",
       "Anxiety            আমি জানি এটা শুধু একটা চিন্তা কিন্তু আমি ঘৃণা...    1  \n",
       "Aspergers         তাই আমি আমার জীবনে অনেক কঠিন মুহুর্তের মধ্য দি...    2  \n",
       "BPD               আমি মনে করি আমি সবসময় ভালবাসা কঠিন হবে এবং শে...    1  \n",
       "Bipolar           অন্য কেউ কি চরম অত্যধিক সংবেদনশীলতা ভোগ করেন? ...    1  \n",
       "Depression        আমি এখন পর্যন্ত ২৯ সালের সবচেয়ে কম শুরু করছি।...    2  \n",
       "Neutral            তুমি কি পেলে? আমার দিন ঠিক আছে.. এখনও কিছু কর...    1  \n",
       "Schizophrenia     হাসপাতালে ভর্তি হতে আপনার বা প্রিয়জনের কি হয়...    2  \n",
       "Self Harm         আমার মেয়ের বয়স ৪ এবং গত বছর তার সেরা বন্ধু ত...    1  \n",
       "Suicidal Thought  খারাপ স্ত্রী/মা আমি দুঃখিত। আমি নিশ্চিত নই যে ...    2  "
      ]
     },
     "execution_count": 7,
     "metadata": {},
     "output_type": "execute_result"
    }
   ],
   "source": [
    "df.groupby(\"Mental_State\").describe()"
   ]
  },
  {
   "cell_type": "code",
   "execution_count": 8,
   "metadata": {},
   "outputs": [
    {
     "data": {
      "text/plain": [
       "Neutral             1002\n",
       "Suicidal Thought    1001\n",
       "Bipolar             1000\n",
       "BPD                  995\n",
       "Anxiety              991\n",
       "Schizophrenia        988\n",
       "Alcoholism           986\n",
       "Depression           943\n",
       "Addiction            921\n",
       "Aspergers            789\n",
       "Self Harm            671\n",
       "Name: Mental_State, dtype: int64"
      ]
     },
     "execution_count": 8,
     "metadata": {},
     "output_type": "execute_result"
    }
   ],
   "source": [
    "df[\"Mental_State\"].value_counts()"
   ]
  },
  {
   "cell_type": "code",
   "execution_count": 9,
   "metadata": {},
   "outputs": [
    {
     "name": "stderr",
     "output_type": "stream",
     "text": [
      "C:\\Users\\moshi\\anaconda3\\lib\\site-packages\\seaborn\\_decorators.py:36: FutureWarning: Pass the following variable as a keyword arg: x. From version 0.12, the only valid positional argument will be `data`, and passing other arguments without an explicit keyword will result in an error or misinterpretation.\n",
      "  warnings.warn(\n"
     ]
    },
    {
     "data": {
      "image/png": "[encoded data removed]",
      "text/plain": [
       "<Figure size 1584x720 with 1 Axes>"
      ]
     },
     "metadata": {
      "needs_background": "light"
     },
     "output_type": "display_data"
    }
   ],
   "source": [
    "plt.subplots(figsize=(22,10))\n",
    "sns.countplot(df[\"Mental_State\"])\n",
    "plt.show()"
   ]
  },
  {
   "cell_type": "code",
   "execution_count": 10,
   "metadata": {},
   "outputs": [
    {
     "name": "stdout",
     "output_type": "stream",
     "text": [
      "13931\n"
     ]
    }
   ],
   "source": [
    "longest_string = max(df[\"Description\"], key=len)\n",
    "print(len(longest_string))"
   ]
  },
  {
   "cell_type": "code",
   "execution_count": 11,
   "metadata": {},
   "outputs": [],
   "source": [
    "import nltk\n",
    "from bs4 import BeautifulSoup\n",
    "import re,string,unicodedata"
   ]
  },
  {
   "cell_type": "code",
   "execution_count": 12,
   "metadata": {},
   "outputs": [
    {
     "name": "stderr",
     "output_type": "stream",
     "text": [
      "C:\\Users\\moshi\\anaconda3\\lib\\site-packages\\bs4\\__init__.py:435: MarkupResemblesLocatorWarning: The input looks more like a filename than markup. You may want to open this file and pass the filehandle into Beautiful Soup.\n",
      "  warnings.warn(\n"
     ]
    }
   ],
   "source": [
    "#Removing the html strips\n",
    "def strip_html(text):\n",
    "    soup = BeautifulSoup(text, \"html.parser\")\n",
    "    return soup.get_text()\n",
    "\n",
    "#Removing the square brackets\n",
    "def remove_between_square_brackets(text):\n",
    "    return re.sub('\\[[^]]*\\]', '', text)\n",
    "\n",
    "#Removing the noisy text\n",
    "def denoise_text(text):\n",
    "    text = strip_html(text)\n",
    "    text = remove_between_square_brackets(text)\n",
    "    return text\n",
    "#Apply function on description column\n",
    "df['Description']=df['Description'].apply(denoise_text)"
   ]
  },
  {
   "cell_type": "code",
   "execution_count": 13,
   "metadata": {},
   "outputs": [],
   "source": [
    "#remove special character\n",
    "def rem_special_characters(text):\n",
    "    pattern = re.compile('[!@#$%^&*()_+-={}\\[\\];:\\'\\\"\\|<>,.///?`~।]', flags=re.I)\n",
    "    return pattern.sub(r'', text)\n",
    "#remove non bangla character\n",
    "def rem_non_bangla_characters(text):\n",
    "    pattern = re.compile('[A-Z]', flags=re.I)\n",
    "    return pattern.sub(r'', text)\n",
    "#remove non empticons character\n",
    "def rem_emoticons(text):\n",
    "    regrex_pattern = re.compile(pattern = \"[\"\n",
    "        u\"\\U0001F600-\\U0001F64F\"  # emoticons\n",
    "        u\"\\U0001F300-\\U0001F5FF\"  # symbols & pictographs\n",
    "        u\"\\U0001F680-\\U0001F6FF\"  # transport & map symbols\n",
    "        u\"\\U0001F1E0-\\U0001F1FF\"  # flags (iOS)\n",
    "                           \"]+\", flags = re.UNICODE)\n",
    "    return regrex_pattern.sub(r'',text)\n",
    "\n",
    "#remove noise\n",
    "def Remove_text(text):\n",
    "    text = rem_special_characters(text)\n",
    "    text = rem_non_bangla_characters(text)\n",
    "    text = rem_emoticons(text)\n",
    "    return text\n",
    "#Apply function on description column\n",
    "df['Description']=df['Description'].apply(Remove_text)"
   ]
  },
  {
   "cell_type": "code",
   "execution_count": 14,
   "metadata": {},
   "outputs": [],
   "source": [
    "def tokenized_data(sent):\n",
    "    tokenized_text = sent.split()\n",
    "    return tokenized_text"
   ]
  },
  {
   "cell_type": "code",
   "execution_count": 15,
   "metadata": {},
   "outputs": [],
   "source": [
    "stop_words = { \"অবশ্য\" ,\"অনেক\",\"অনেকে\",\"অনেকেই\",\"অন্তত\",\"অথবা\",\"অথচ\",\"অর্থাত\",\"অন্য\",\"আজ\",\"আছে\",\"আপনার\",\"আপনি\",\"আবার\",\"আমরা\"\n",
    "\"আমাকে\",\"আমাদের\",\"আমার\",\"আমি\",\"আরও\",\"আর\",\"আগে\",\"আগেই\",\"আই\",\"অতএব\",\"আগামী\",\"অবধি\",\"অনুযায়ী\",\"আদ্যভাগে\",\"এই\",\"একই\",\"একে\",\n",
    "\"একটি\",\"এখন\",\"এখনও\",\"এখানে\",\"এখানেই\",\n",
    "\"এটি\",\n",
    "\"এটা\",\n",
    "\"এটাই\",\n",
    "\"এতটাই\",\n",
    "\"এবং\",\n",
    "\"একবার\",\n",
    "\"এবার\",\n",
    "\"এদের\",\n",
    "\"এঁদের\",\n",
    "\"এমন\",\n",
    "\"এমনকী\",\n",
    "\"এল\",\n",
    "\"এর\",\n",
    "\"এরা\",\n",
    "\"এঁরা\",\n",
    "\"এস\",\n",
    "\"এত\",\n",
    "\"এতে\",\n",
    "\"এসে\",\n",
    "\"একে\",\n",
    "\"এ\",\n",
    "\"ঐ\",\n",
    "\"ই\",\n",
    "\"ইহা\",\n",
    "\"ইত্যাদি\",\n",
    "\"উনি\",\n",
    "\"উপর\",\n",
    "\"উপরে\",\n",
    "\"উচিত\",\n",
    "\"ও\",\n",
    "\"ওই\",\n",
    "\"ওর\",\n",
    "\"ওরা\",\n",
    "\"ওঁর\",\n",
    "\"ওঁরা\",\n",
    "\"ওকে\",\n",
    "\"ওদের\",\n",
    "\"ওঁদের\",\n",
    "\"ওখানে\",\n",
    "'কত',\n",
    "\"কবে\",\n",
    "'করতে',\n",
    "\"কয়েক\"\n",
    "\"কয়েকটি\",\n",
    "\"করবে\",\n",
    "\"করলেন\",\n",
    "\"করার\",\n",
    "\"কারও\",\n",
    "\"করা\",\n",
    "\"করি\",\n",
    "\"করিয়ে\",\n",
    "\"করার\",\n",
    "\"করাই\",\n",
    "\"করলে\",\n",
    "\"করলেন\",\n",
    "\"করিতে\",\n",
    "\"করিয়া\",\n",
    "\"করেছিলেন\",\n",
    "\"করছে\",\n",
    "\"করছেন\",\n",
    "\"করেছেন\",\n",
    "\"করেছে\",\n",
    "\"করেন\",\n",
    "\"করবেন\",\n",
    "\"করায়\",\n",
    "\"করে\",\n",
    "\"করেই\",\n",
    "\"কাছ\",\n",
    "\"কাছে\",\n",
    "\"কাজে\",\n",
    "\"কারণ\",\n",
    "\"কিছু\",\n",
    "\"কিছুই\",\n",
    "\"কিন্তু\",\n",
    "\"কিংবা\",\n",
    "\"কি\",\n",
    "\"কী\",\n",
    "\"কেউ\",\n",
    "\"কেউই\",\n",
    "\"কাউকে\",\n",
    "\"কেন\",\n",
    "\"কে\",\n",
    "\"কোনও\",\n",
    "\"কোনো\",\n",
    "\"কোন\",\n",
    "\"কখনও\",\n",
    "\"ক্ষেত্রে\",\n",
    "\"খুব\",\n",
    "\"গুলি\",\n",
    "\"গিয়ে\",\n",
    "\"গিয়েছে\",\n",
    "\"গেছে\",\n",
    "\"গেল\",\n",
    "\"গেলে\",\n",
    "\"গোটা\",\n",
    "\"চলে\",\n",
    "\"ছাড়া\",\n",
    "\"ছাড়াও\",\n",
    "\"ছিলেন\",\n",
    "\"ছিল\",\n",
    "\"জন্য\",\n",
    "\"জানা\",\n",
    "\"ঠিক\",\n",
    "\"তিনি\",\n",
    "\"তিনঐ\",\n",
    "\"তিনিও\",\n",
    "\"তখন\",\n",
    "\"তবে\",\n",
    "\"তবু\",\n",
    "\"তাঁদের\",\n",
    "\"তাঁাহারা\",\n",
    "\"তাঁরা\",\n",
    "\"তাঁর\",\n",
    "\"তাঁকে\",\n",
    "\"তাই\",\n",
    "\"তেমন\",\n",
    "\"তাকে\",\n",
    "\"তাহা\",\n",
    "\"তাহাতে\",\n",
    "\"তাহার\",\n",
    "\"তাদের\",\n",
    "\"তারপর\",\n",
    "\"তারা\",\n",
    "\"তারৈ\",\n",
    "\"তার\",\n",
    "\"তাহলে\",\n",
    "\"তিনি\",\n",
    "\"তা\",\n",
    "\"তাও\",\n",
    "\"তাতে\",\n",
    "\"তো\",\n",
    "\"তত\",\n",
    "\"তুমি\",\n",
    "\"তোমার\",\n",
    "\"তথা\",\n",
    "\"থাকে\",\n",
    "\"থাকা\",\n",
    "\"থাকায়\",\n",
    "\"থেকে\",\n",
    "\"থেকেও\",\n",
    "\"থাকবে\",\n",
    "\"থাকেন\",\n",
    "\"থাকবেন\",\n",
    "\"থেকেই\",\n",
    "\"দিকে\",\n",
    "\"দিতে\",\n",
    "\"দিয়ে\",\n",
    "\"দিয়েছে\",\n",
    "\"দিয়েছেন\",\n",
    "\"দিলেন\",\n",
    "\"দু\",\n",
    "\"দুটি\",\n",
    "\"দুটো\",\n",
    "\"দেয়\",\n",
    "\"দেওয়া\",\n",
    "\"দেওয়ার\",\n",
    "\"দেখা\",\n",
    "\"দেখে\",\n",
    "\"দেখতে\",\n",
    "\"দ্বারা\",\n",
    "\"ধরে\",\n",
    "\"ধরা\",\n",
    "\"নয়\",\n",
    "\"নানা\",\n",
    "\"না\",\n",
    "\"নাকি\",\n",
    "\"নাগাদ\",\n",
    "\"নিতে\",\n",
    "\"নিজে\",\n",
    "\"নিজেই\",\n",
    "\"নিজের\",\n",
    "\"নিজেদের\",\n",
    "\"নিয়ে\",\n",
    "\"নেওয়া\",\n",
    "\"নেওয়ার\",\n",
    "\"নেই\",\n",
    "\"নাই\",\n",
    "\"পক্ষে\",\n",
    "\"পর্যন্ত\",\n",
    "\"পাওয়া\",\n",
    "\"পারেন\",\n",
    "\"পারি\",\n",
    "\"পারে\",\n",
    "\"পরে\",\n",
    "\"পরেই\",\n",
    "\"পরেও\",\n",
    "\"পর\",\n",
    "\"পেয়ে\",\n",
    "\"প্রতি\",\n",
    "\"প্রভৃতি\",\n",
    "\"প্রায়\",\n",
    "\"ফের\",\n",
    "\"ফলে\",\n",
    "\"ফিরে\",\n",
    "\"ব্যবহার\",\n",
    "\"বলতে\",\n",
    "\"বললেন\",\n",
    "\"বলেছেন\",\n",
    "\"বলল\",\n",
    "\"বলা\",\n",
    "\"বলেন\",\n",
    "\"বলে\",\n",
    "\"বহু\",\n",
    "\"বসে\",\n",
    "\"বার\",\n",
    "\"বা\",\n",
    "\"বিনা\",\n",
    "\"বরং\",\n",
    "\"বদলে\",\n",
    "\"বাদে\",\n",
    "\"বার\",\n",
    "\"বিশেষ\",\n",
    "\"বিভিন্ন\",\n",
    "\"বিষয়টি\",\n",
    "\"ব্যবহার\",\n",
    "\"ব্যাপারে\"\n",
    "\"ভাবে\",\n",
    "\"ভাবেই\",\n",
    "\"মধ্যে\",\n",
    "\"মধ্যেই\",\n",
    "\"মধ্যেও\",\n",
    "\"মধ্যভাগে\",\n",
    "\"মাধ্যমে\",\n",
    "\"মাত্র\",\n",
    "\"মতো\",\n",
    "\"মতোই\",\n",
    "\"মোটেই\",\n",
    "\"যখন\",\n",
    "\"যদি\",\n",
    "\"যদিও\",\n",
    "\"যাবে\",\n",
    "\"যায়\",\n",
    "\"যাকে\",\n",
    "\"যাওয়া\",\n",
    "\"যাওয়ার\",\n",
    "\"যত\",\n",
    "\"যতটা\",\n",
    "\"যা\",\n",
    "\"যার\",\n",
    "\"যারা\",\n",
    "\"যাঁর\",\n",
    "\"যাঁরা\",\n",
    "\"যাদের\",\n",
    "\"যান\",\n",
    "\"যাচ্ছে\",\n",
    "\"যেতে\",\n",
    "\"যাতে\",\n",
    "\"যেন\",\n",
    "\"যেমন\",\n",
    "\"যেখানে\",\n",
    "\"যিনি\",\n",
    "\"যে\",\n",
    "\"রেখে\",\n",
    "\"রাখা\",\n",
    "\"রয়েছে\",\n",
    "\"রকম\",\n",
    "\"শুধু\",\n",
    "\"সঙ্গে\",\n",
    "\"সঙ্গেও\",\n",
    "\"সমস্ত\",\n",
    "\"সব\",\n",
    "\"সবার\",\n",
    "\"সহ\",\n",
    "\"সুতরাং\",\n",
    "\"সহিত\",\n",
    "\"সেই\",\n",
    "\"সেটা\",\n",
    "\"সেটি\",\n",
    "\"সেটাই\",\n",
    "\"সেটাও\",\n",
    "\"সম্প্রতি\",\n",
    "\"সেখান\",\n",
    "\"সেখানে\",\n",
    "\"সে\",\n",
    "\"স্পষ্ট\",\n",
    "\"স্বয়ং\",\n",
    "\"হইতে\",\n",
    "\"হইবে\",\n",
    "\"হৈলে\",\n",
    "\"হইয়া\",\n",
    "\"হচ্ছে\",\n",
    "\"হত\",\n",
    "\"হতে\",\n",
    "\"হতেই\",\n",
    "\"হবে\",\n",
    "\"হবেন\",\n",
    "\"হয়েছিল\",\n",
    "\"হয়েছে\",\n",
    "\"হয়েছেন\",\n",
    "\"হয়ে\",\n",
    "\"হয়নি\",\n",
    "\"হয়\",\n",
    "\"হয়েই\",\n",
    "\"হয়তো\",\n",
    "\"হল\",\n",
    "\"হলে\",\n",
    "\"হলেই\",\n",
    "\"হলেও\",\n",
    "\"হলো\",\n",
    "\"হিসাবে\",\n",
    "\"হওয়া\",\n",
    "\"হওয়ার\",\n",
    "\"হওয়ায়\",\n",
    "\"হন\",\n",
    "\"হোক\",\n",
    "\"জন\",\n",
    "\"জনকে\",\n",
    "\"জনের\",\n",
    "\"জানতে\",\n",
    "\"জানায়\",\n",
    "\"জানিয়ে\",\n",
    "\"জানানো\",\n",
    "\"জানিয়েছে\",\n",
    "\"জন্য\",\n",
    "\"জন্যওজে\",\n",
    "\"জে\",\n",
    "\"বেশ\",\n",
    "\"দেন\",\n",
    "\"তুলে\",\n",
    "\"ছিলেন\",\n",
    "\"চান\",\n",
    "\"চায়\",\n",
    "\"চেয়ে\",\n",
    "\"মোট\",\n",
    "\"যথেষ্ট\",\n",
    "\"টি\"}"
   ]
  },
  {
   "cell_type": "code",
   "execution_count": 16,
   "metadata": {},
   "outputs": [],
   "source": [
    "def remove_stop_words(text):\n",
    "    text = [w for w in text if not w in stop_words]\n",
    "    text = ' '.join(text)\n",
    "    return text"
   ]
  },
  {
   "cell_type": "code",
   "execution_count": 17,
   "metadata": {},
   "outputs": [],
   "source": [
    "df['Description'] = [remove_stop_words(tokenized_data(sent)) for sent in df['Description'].tolist()]"
   ]
  },
  {
   "cell_type": "code",
   "execution_count": 18,
   "metadata": {},
   "outputs": [
    {
     "name": "stdout",
     "output_type": "stream",
     "text": [
      "9014\n"
     ]
    }
   ],
   "source": [
    "longest_string = max(df[\"Description\"], key=len)\n",
    "print(len(longest_string))"
   ]
  },
  {
   "cell_type": "code",
   "execution_count": 19,
   "metadata": {
    "colab": {
     "base_uri": "https://localhost:8080/"
    },
    "id": "DFgD7Seo_Xlq",
    "outputId": "9be2fe5a-b7b5-4488-9cd4-8a48ce6123e8",
    "scrolled": false
   },
   "outputs": [
    {
     "name": "stdout",
     "output_type": "stream",
     "text": [
      "Number of unique words: 28443\n",
      "[[  37 5063  235 ...  148   44  417]\n",
      " [  37    1   54 ... 1116  350   31]\n",
      " [ 332  105   21 ...   46 1354    7]\n",
      " ...\n",
      " [   0    0    0 ...    0  977 4492]\n",
      " [ 756    4   10 ...   98   15    4]\n",
      " [   0    0    0 ... 1689  237   59]]\n"
     ]
    }
   ],
   "source": [
    "train, test = train_test_split(df, test_size=0.2, stratify = df[\"Mental_State\"], random_state = 42)\n",
    "num_classes = 11\n",
    "embed_num_dims = 300\n",
    "max_seq_len = 50\n",
    "\n",
    "x_train = train['Description']\n",
    "x_test = test['Description']\n",
    "\n",
    "y_train = train['Mental_State']\n",
    "y_test = test['Mental_State']\n",
    "\n",
    "texts_train = x_train\n",
    "texts_test = x_test\n",
    "\n",
    "tokenizer = Tokenizer()\n",
    "tokenizer.fit_on_texts(train['Description'])\n",
    "\n",
    "sequence_train = tokenizer.texts_to_sequences(texts_train)\n",
    "sequence_test = tokenizer.texts_to_sequences(texts_test)\n",
    "\n",
    "index_of_words = tokenizer.word_index\n",
    "\n",
    "vocab_size = len(index_of_words) + 1\n",
    "\n",
    "print('Number of unique words: {}'.format(len(index_of_words)))\n",
    "\n",
    "X_train_pad = pad_sequences(sequence_train, maxlen = max_seq_len, padding='pre' )\n",
    "X_test_pad = pad_sequences(sequence_test, maxlen = max_seq_len,  padding='pre')\n",
    "\n",
    "print(X_train_pad)\n",
    "\n",
    "\n",
    "encoding = {\n",
    "    \"Neutral\":0,\n",
    "    \"Suicidal Thought\":1,\n",
    "    \"Bipolar\":2,\n",
    "    \"BPD\":3,\n",
    "    \"Anxiety\":4,\n",
    "    \"Schizophrenia\":5,\n",
    "    \"Alcoholism\":6,\n",
    "    \"Depression\":7,\n",
    "    \"Addiction\":8,\n",
    "    \"Aspergers\":9,\n",
    "    \"Self Harm\":10,\n",
    "}\n",
    "\n",
    "y_train = [encoding[x] for x in train['Mental_State']]\n",
    "y_test = [encoding[x] for x in test['Mental_State']]\n",
    "\n",
    "\n",
    "\n",
    "y_train = tf.keras.utils.to_categorical(y_train)\n",
    "y_test = tf.keras.utils.to_categorical(y_test)\n"
   ]
  },
  {
   "cell_type": "code",
   "execution_count": 20,
   "metadata": {},
   "outputs": [
    {
     "name": "stdout",
     "output_type": "stream",
     "text": [
      "(28444, 300)\n"
     ]
    }
   ],
   "source": [
    "def create_embedding_matrix(word_index, embedding_dim):\n",
    "    vocab_size = len(word_index) + 1  # Adding again 1 because of reserved 0 index\n",
    "    embedding_matrix = np.zeros((vocab_size, embedding_dim))\n",
    "    with open('bn_w2v_model.TEXT',encoding=\"utf8\") as f:\n",
    "        for line in f:\n",
    "            word, *vector = line.split()\n",
    "            if word in word_index:\n",
    "                idx = word_index[word] \n",
    "                embedding_matrix[idx] = np.array(\n",
    "                    vector, dtype=np.float32)[:embedding_dim]\n",
    "    return embedding_matrix\n",
    "\n",
    "\n",
    "embedd_matrix = create_embedding_matrix(index_of_words, embed_num_dims)\n",
    "print(embedd_matrix.shape)"
   ]
  },
  {
   "cell_type": "markdown",
   "metadata": {
    "id": "gGgsd5mMZPKn"
   },
   "source": [
    "# Random Search\n"
   ]
  },
  {
   "cell_type": "code",
   "execution_count": 21,
   "metadata": {
    "colab": {
     "base_uri": "https://localhost:8080/"
    },
    "id": "3IvOZoK8YGDI",
    "outputId": "fe861031-a89e-45d3-8f7a-42f1e7b6b256",
    "scrolled": false
   },
   "outputs": [
    {
     "name": "stdout",
     "output_type": "stream",
     "text": [
      "Trial 40 Complete [00h 06m 44s]\n",
      "val_accuracy: 0.5996112823486328\n",
      "\n",
      "Best val_accuracy So Far: 0.5996112823486328\n",
      "Total elapsed time: 04h 40m 16s\n",
      "INFO:tensorflow:Oracle triggered exit\n",
      "Results summary\n",
      "Results in 1668836846\\untitled_project\n",
      "Showing 10 best trials\n",
      "<keras_tuner.engine.objective.Objective object at 0x00000179B36B9DF0>\n",
      "Trial summary\n",
      "Hyperparameters:\n",
      "cnn_1_unit: 48\n",
      "cnn_1_dropout: 0.2\n",
      "lstm_unit: 224\n",
      "lstm_dropout: 0.1\n",
      "Score: 0.5996112823486328\n",
      "Trial summary\n",
      "Hyperparameters:\n",
      "cnn_1_unit: 48\n",
      "cnn_1_dropout: 0.2\n",
      "lstm_unit: 224\n",
      "lstm_dropout: 0.2\n",
      "Score: 0.5991253852844238\n",
      "Trial summary\n",
      "Hyperparameters:\n",
      "cnn_1_unit: 80\n",
      "cnn_1_dropout: 0.2\n",
      "lstm_unit: 224\n",
      "lstm_dropout: 0.2\n",
      "Score: 0.5991253852844238\n",
      "Trial summary\n",
      "Hyperparameters:\n",
      "cnn_1_unit: 32\n",
      "cnn_1_dropout: 0.1\n",
      "lstm_unit: 224\n",
      "lstm_dropout: 0.2\n",
      "Score: 0.5991253852844238\n",
      "Trial summary\n",
      "Hyperparameters:\n",
      "cnn_1_unit: 48\n",
      "cnn_1_dropout: 0.2\n",
      "lstm_unit: 64\n",
      "lstm_dropout: 0.1\n",
      "Score: 0.5981535315513611\n",
      "Trial summary\n",
      "Hyperparameters:\n",
      "cnn_1_unit: 48\n",
      "cnn_1_dropout: 0.1\n",
      "lstm_unit: 256\n",
      "lstm_dropout: 0.4\n",
      "Score: 0.5971817374229431\n",
      "Trial summary\n",
      "Hyperparameters:\n",
      "cnn_1_unit: 16\n",
      "cnn_1_dropout: 0.30000000000000004\n",
      "lstm_unit: 256\n",
      "lstm_dropout: 0.30000000000000004\n",
      "Score: 0.5962098836898804\n",
      "Trial summary\n",
      "Hyperparameters:\n",
      "cnn_1_unit: 64\n",
      "cnn_1_dropout: 0.1\n",
      "lstm_unit: 128\n",
      "lstm_dropout: 0.4\n",
      "Score: 0.5942662954330444\n",
      "Trial summary\n",
      "Hyperparameters:\n",
      "cnn_1_unit: 64\n",
      "cnn_1_dropout: 0.30000000000000004\n",
      "lstm_unit: 128\n",
      "lstm_dropout: 0.4\n",
      "Score: 0.5942662954330444\n",
      "Trial summary\n",
      "Hyperparameters:\n",
      "cnn_1_unit: 32\n",
      "cnn_1_dropout: 0.2\n",
      "lstm_unit: 128\n",
      "lstm_dropout: 0.30000000000000004\n",
      "Score: 0.5932944416999817\n"
     ]
    }
   ],
   "source": [
    "from tensorflow.keras import regularizers\n",
    "import time\n",
    "LOG_DIR = f\"{int(time.time())}\"\n",
    "seed_value= 0\n",
    "\n",
    "\n",
    "\n",
    "def build_model(hp):\n",
    "  \n",
    "  reproduceResult()\n",
    "\n",
    "  print('Ya it comes here')\n",
    "  fake_val = hp.Int(\"cnn_1_unit\",min_value =16, max_value = 96, step = 16)\n",
    "  cnn_1_unit = hp.Int(\"cnn_1_unit\",min_value =16, max_value = 96, step = 16)\n",
    "  cnn_1_dropout = hp.Float(\"cnn_1_dropout\",min_value = 0.1,max_value = 0.3,step = 0.1)\n",
    "\n",
    "  lstm_unit = hp.Int(\"lstm_unit\",min_value =64, max_value = 256, step = 32)\n",
    "  lstm_dropout = hp.Float(\"lstm_dropout\",min_value = 0.1,max_value = 0.5,step = 0.1)\n",
    "\n",
    "\n",
    "\n",
    "\n",
    "  seq_input = keras.layers.Input(shape=(max_seq_len,))\n",
    "\n",
    "  embedded = keras.layers.Embedding(vocab_size,\n",
    "                          embed_num_dims,\n",
    "                          input_length = max_seq_len,\n",
    "                          weights = [embedd_matrix])(seq_input)\n",
    "\n",
    "\n",
    "  lstm = keras.layers.Bidirectional(keras.layers.LSTM(lstm_unit, recurrent_regularizer=regularizers.l2(1e-4),\n",
    "                                                      return_sequences=True,kernel_regularizer=regularizers.l2(1e-4),\n",
    "                                                      bias_regularizer=regularizers.l2(1e-2),\n",
    "                                                      activity_regularizer=regularizers.l2(1e-4),input_shape =(48,)))(embedded)\n",
    "  lstm = keras.layers.Activation(activation='relu')(lstm)\n",
    "  lstm = keras.layers.BatchNormalization()(lstm)\n",
    "  lstm = keras.layers.Dropout(lstm_dropout,seed=seed_value)(lstm)\n",
    "\n",
    "  max_pooling = keras.layers.GlobalMaxPooling1D()(lstm)\n",
    "  output = keras.layers.Dense(num_classes, activation='softmax')(max_pooling)\n",
    "\n",
    "  model = keras.Model(inputs = [seq_input], outputs = output)\n",
    "  model.compile(loss = 'categorical_crossentropy', optimizer = 'adam', metrics = ['accuracy'])\n",
    "  \n",
    "  model.summary()\n",
    "\n",
    "  return model\n",
    "\n",
    "\n",
    "stop = tf.keras.callbacks.EarlyStopping(monitor='val_accuracy',\n",
    "                              patience=4,\n",
    "                              restore_best_weights=True,\n",
    "                              verbose=0, mode='max')\n",
    "\n",
    "\n",
    "clr_step_size = int((len(X_train_pad)/64))\n",
    "base_lr = 1e-3\n",
    "max_lr = 6e-3\n",
    "mode = 'exp_range'\n",
    "\n",
    "\n",
    "clr = CyclicLR(base_lr = base_lr, max_lr = max_lr, step_size = clr_step_size, mode = mode)\n",
    "\n",
    "\n",
    "tuner = RandomSearch(\n",
    "    build_model,\n",
    "    objective = keras_tuner.Objective('val_accuracy', direction=\"max\"),\n",
    "    max_trials = 40,\n",
    "    executions_per_trial = 1,\n",
    "    directory = LOG_DIR\n",
    "    )\n",
    "  \n",
    "tuner.search(x=X_train_pad,y = y_train,epochs = 35, batch_size = 64,callbacks = [stop,clr], \n",
    "             validation_data = (X_test_pad,y_test))\n",
    "\n",
    "\n",
    "tuner.results_summary()"
   ]
  },
  {
   "cell_type": "code",
   "execution_count": 22,
   "metadata": {},
   "outputs": [
    {
     "name": "stdout",
     "output_type": "stream",
     "text": [
      "Search space summary\n",
      "Default search space size: 4\n",
      "cnn_1_unit (Int)\n",
      "{'default': None, 'conditions': [], 'min_value': 16, 'max_value': 96, 'step': 16, 'sampling': None}\n",
      "cnn_1_dropout (Float)\n",
      "{'default': 0.1, 'conditions': [], 'min_value': 0.1, 'max_value': 0.3, 'step': 0.1, 'sampling': None}\n",
      "lstm_unit (Int)\n",
      "{'default': None, 'conditions': [], 'min_value': 64, 'max_value': 256, 'step': 32, 'sampling': None}\n",
      "lstm_dropout (Float)\n",
      "{'default': 0.1, 'conditions': [], 'min_value': 0.1, 'max_value': 0.5, 'step': 0.1, 'sampling': None}\n"
     ]
    }
   ],
   "source": [
    "tuner.search_space_summary()"
   ]
  },
  {
   "cell_type": "code",
   "execution_count": 23,
   "metadata": {},
   "outputs": [
    {
     "name": "stdout",
     "output_type": "stream",
     "text": [
      "Ya it comes here\n",
      "Model: \"model\"\n",
      "_________________________________________________________________\n",
      " Layer (type)                Output Shape              Param #   \n",
      "=================================================================\n",
      " input_1 (InputLayer)        [(None, 50)]              0         \n",
      "                                                                 \n",
      " embedding (Embedding)       (None, 50, 300)           8533200   \n",
      "                                                                 \n",
      " bidirectional (Bidirectiona  (None, 50, 448)          940800    \n",
      " l)                                                              \n",
      "                                                                 \n",
      " activation (Activation)     (None, 50, 448)           0         \n",
      "                                                                 \n",
      " batch_normalization (BatchN  (None, 50, 448)          1792      \n",
      " ormalization)                                                   \n",
      "                                                                 \n",
      " dropout (Dropout)           (None, 50, 448)           0         \n",
      "                                                                 \n",
      " global_max_pooling1d (Globa  (None, 448)              0         \n",
      " lMaxPooling1D)                                                  \n",
      "                                                                 \n",
      " dense (Dense)               (None, 11)                4939      \n",
      "                                                                 \n",
      "=================================================================\n",
      "Total params: 9,480,731\n",
      "Trainable params: 9,479,835\n",
      "Non-trainable params: 896\n",
      "_________________________________________________________________\n"
     ]
    }
   ],
   "source": [
    "best_hps = tuner.get_best_hyperparameters(5)\n",
    "# Build the model with the best hp.\n",
    "model = build_model(best_hps[0])"
   ]
  },
  {
   "cell_type": "code",
   "execution_count": 24,
   "metadata": {},
   "outputs": [
    {
     "name": "stdout",
     "output_type": "stream",
     "text": [
      "Epoch 1/35\n",
      "129/129 [==============================] - 70s 523ms/step - loss: 5.2118 - accuracy: 0.4567 - val_loss: 3.9163 - val_accuracy: 0.4490\n",
      "Epoch 2/35\n",
      "129/129 [==============================] - 67s 519ms/step - loss: 1.8634 - accuracy: 0.7521 - val_loss: 2.3999 - val_accuracy: 0.5928\n",
      "Epoch 3/35\n",
      "129/129 [==============================] - 67s 518ms/step - loss: 0.6569 - accuracy: 0.9627 - val_loss: 1.8634 - val_accuracy: 0.4951\n",
      "Epoch 4/35\n",
      "129/129 [==============================] - 67s 518ms/step - loss: 0.4670 - accuracy: 0.9316 - val_loss: 1.5986 - val_accuracy: 0.5996\n",
      "Epoch 5/35\n",
      "129/129 [==============================] - 67s 518ms/step - loss: 0.2385 - accuracy: 0.9887 - val_loss: 2.2416 - val_accuracy: 0.5515\n",
      "Epoch 6/35\n",
      "129/129 [==============================] - 67s 517ms/step - loss: 0.3108 - accuracy: 0.9638 - val_loss: 2.4473 - val_accuracy: 0.5763\n",
      "Epoch 7/35\n",
      "129/129 [==============================] - 67s 518ms/step - loss: 0.2145 - accuracy: 0.9887 - val_loss: 3.0777 - val_accuracy: 0.5092\n",
      "Epoch 8/35\n",
      "129/129 [==============================] - 67s 518ms/step - loss: 0.6017 - accuracy: 0.9172 - val_loss: 3.1053 - val_accuracy: 0.5564\n"
     ]
    }
   ],
   "source": [
    "history = model.fit(x=X_train_pad,y = y_train,epochs = 35, batch_size = 64,callbacks = [stop,clr], \n",
    "             validation_data = (X_test_pad,y_test))"
   ]
  },
  {
   "cell_type": "code",
   "execution_count": 25,
   "metadata": {},
   "outputs": [],
   "source": [
    "def PlotGraph(history):\n",
    "    acc = history.history['accuracy']\n",
    "    val_acc = history.history['val_accuracy']\n",
    "    loss = history.history['loss']\n",
    "    val_loss = history.history['val_loss']\n",
    "    x = range(1, len(acc) + 1)\n",
    "\n",
    "    plt.figure(figsize=(12, 5))\n",
    "    plt.subplot(1, 2, 1)\n",
    "    plt.plot(x, acc, 'g', label='Training acc')\n",
    "    plt.plot(x, val_acc, 'b', label='Validation acc')\n",
    "    plt.title('Training and validation accuracy')\n",
    "    plt.legend()\n",
    "    plt.subplot(1, 2, 2)\n",
    "    plt.plot(x, loss, 'g', label='Training loss')\n",
    "    plt.plot(x, val_loss, 'b', label='Validation loss')\n",
    "    plt.title('Training and validation loss')\n",
    "    plt.legend()"
   ]
  },
  {
   "cell_type": "code",
   "execution_count": 26,
   "metadata": {},
   "outputs": [
    {
     "data": {
      "image/png": "[encoded data removed]",
      "text/plain": [
       "<Figure size 864x360 with 2 Axes>"
      ]
     },
     "metadata": {
      "needs_background": "light"
     },
     "output_type": "display_data"
    }
   ],
   "source": [
    "PlotGraph(history)"
   ]
  },
  {
   "cell_type": "code",
   "execution_count": 27,
   "metadata": {},
   "outputs": [],
   "source": [
    "class_names = [\"Neutral\",\n",
    "    \"Suicidal Thought\",\n",
    "    \"Bipolar\",\n",
    "    \"BPD\",\n",
    "    \"Anxiety\",\n",
    "    \"Schizophrenia\",\n",
    "    \"Alcoholism\",\n",
    "    \"Depression\",\n",
    "    \"Addiction\",\n",
    "    \"Aspergers\",\n",
    "    \"Self Harm\",]"
   ]
  },
  {
   "cell_type": "code",
   "execution_count": 28,
   "metadata": {},
   "outputs": [
    {
     "data": {
      "text/plain": [
       "array([6, 8, 9, ..., 1, 6, 0], dtype=int64)"
      ]
     },
     "execution_count": 28,
     "metadata": {},
     "output_type": "execute_result"
    }
   ],
   "source": [
    "predict = model.predict(X_test_pad)\n",
    "predict_class = np.argmax(predict, axis=1)\n",
    "predict_class = np.array(predict_class)\n",
    "predict_class"
   ]
  },
  {
   "cell_type": "code",
   "execution_count": 29,
   "metadata": {},
   "outputs": [
    {
     "data": {
      "text/plain": [
       "array([6, 8, 9, ..., 1, 6, 0], dtype=int64)"
      ]
     },
     "execution_count": 29,
     "metadata": {},
     "output_type": "execute_result"
    }
   ],
   "source": [
    "predict_lables=np.argmax(y_test, axis=1)\n",
    "predict_lables"
   ]
  },
  {
   "cell_type": "code",
   "execution_count": 30,
   "metadata": {
    "scrolled": true
   },
   "outputs": [
    {
     "data": {
      "text/plain": [
       "array([[170,   4,   1,   1,   3,   1,   4,   6,   0,   1,  10],\n",
       "       [  4, 129,   7,   4,  14,   4,   3,  17,   2,   5,  11],\n",
       "       [  5,   9, 108,   6,  25,  19,   2,   9,   3,   7,   7],\n",
       "       [  1,  21,  19,  87,  17,   6,   2,  18,   3,  17,   8],\n",
       "       [  1,  12,   5,   6, 140,   3,   8,  10,   1,   8,   4],\n",
       "       [  4,  12,  21,   6,  18, 104,   1,   6,   2,  14,  10],\n",
       "       [  0,   6,   5,   2,  15,   3, 142,   5,  11,   5,   3],\n",
       "       [  0,  45,   9,   7,  17,   4,   5,  77,   3,   8,  14],\n",
       "       [  0,   7,  11,   3,  11,   7,  22,   5, 103,   8,   7],\n",
       "       [  2,   9,   5,   7,  15,   8,   7,  10,   1,  81,  13],\n",
       "       [  3,  11,   2,   1,   5,   0,   3,   9,   5,   2,  93]],\n",
       "      dtype=int64)"
      ]
     },
     "execution_count": 30,
     "metadata": {},
     "output_type": "execute_result"
    }
   ],
   "source": [
    "from sklearn.metrics import confusion_matrix\n",
    "cm = confusion_matrix(predict_lables, predict_class)\n",
    "cm"
   ]
  },
  {
   "cell_type": "code",
   "execution_count": 31,
   "metadata": {},
   "outputs": [
    {
     "data": {
      "text/plain": [
       "<AxesSubplot:>"
      ]
     },
     "execution_count": 31,
     "metadata": {},
     "output_type": "execute_result"
    },
    {
     "data": {
      "image/png": "[encoded data removed]",
      "text/plain": [
       "<Figure size 720x504 with 2 Axes>"
      ]
     },
     "metadata": {
      "needs_background": "light"
     },
     "output_type": "display_data"
    }
   ],
   "source": [
    "df_cm = pd.DataFrame(cm, index=class_names,columns=class_names)\n",
    "plt.figure(figsize = (10,7))\n",
    "sns.heatmap(df_cm,annot=True, fmt =\"d\")"
   ]
  },
  {
   "cell_type": "code",
   "execution_count": 32,
   "metadata": {},
   "outputs": [
    {
     "name": "stdout",
     "output_type": "stream",
     "text": [
      "                  precision    recall  f1-score   support\n",
      "\n",
      "         Neutral       0.89      0.85      0.87       201\n",
      "Suicidal Thought       0.49      0.65      0.55       200\n",
      "         Bipolar       0.56      0.54      0.55       200\n",
      "             BPD       0.67      0.44      0.53       199\n",
      "         Anxiety       0.50      0.71      0.59       198\n",
      "   Schizophrenia       0.65      0.53      0.58       198\n",
      "      Alcoholism       0.71      0.72      0.72       197\n",
      "      Depression       0.45      0.41      0.43       189\n",
      "       Addiction       0.77      0.56      0.65       184\n",
      "       Aspergers       0.52      0.51      0.52       158\n",
      "       Self Harm       0.52      0.69      0.59       134\n",
      "\n",
      "        accuracy                           0.60      2058\n",
      "       macro avg       0.61      0.60      0.60      2058\n",
      "    weighted avg       0.62      0.60      0.60      2058\n",
      "\n"
     ]
    }
   ],
   "source": [
    "from sklearn.metrics import classification_report\n",
    "print(classification_report(predict_lables, predict_class, target_names =class_names))"
   ]
  },
  {
   "cell_type": "code",
   "execution_count": null,
   "metadata": {},
   "outputs": [],
   "source": []
  }
 ],
 "metadata": {
  "colab": {
   "collapsed_sections": [],
   "name": "100_percent_test_BiLSTM_best_model_git.ipynb",
   "provenance": []
  },
  "kernelspec": {
   "display_name": "Python 3 (ipykernel)",
   "language": "python",
   "name": "python3"
  },
  "language_info": {
   "codemirror_mode": {
    "name": "ipython",
    "version": 3
   },
   "file_extension": ".py",
   "mimetype": "text/x-python",
   "name": "python",
   "nbconvert_exporter": "python",
   "pygments_lexer": "ipython3",
   "version": "3.9.12"
  }
 },
 "nbformat": 4,
 "nbformat_minor": 1
}
